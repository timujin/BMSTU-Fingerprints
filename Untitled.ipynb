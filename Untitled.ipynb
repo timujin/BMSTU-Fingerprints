{
 "cells": [
  {
   "cell_type": "code",
   "execution_count": 6,
   "metadata": {},
   "outputs": [],
   "source": [
    "def comp(f,g):\n",
    "    return lambda *x: f(g(*x))\n",
    "\n",
    "import re, math\n",
    "minutia_regexp = re.compile(\n",
    "    \"^(?P<id>[0-9]+):\"              +   # the integer identifier of the detected minutia\n",
    "     \"(?P<mx>[0-9]+),\"              +   # the x-pixel coordinate of the detected minutia\n",
    "     \"(?P<my>[0-9]+):\"              +   # the y-pixel coordinate of the detected minutia\n",
    "     \"(?P<dir>[0-9]+):\"             +   # the direction of the detected minutia (0:-31) == (0:-360) clockwise\n",
    "     \"(?P<rel>(0\\.[0-9]+)|(1\\.0)):\" +   # the reliability measure assigned to the detected minutia\n",
    "     \"(?P<typ>(RIG)|(BIF)):\"        +   # the type of the detected minutia\n",
    "     \"(?P<ftyp>(APP)|(DIS)):\"       +   # the type of feature detected\n",
    "     \"(?P<fn>[0-9]+)\"               +   # the integer identifier of the type of feature detected\n",
    "     \"(:(?P<neighbours>([0-9]+,[0-9]+;[0-9]+:?)*))?$\") # neighbouring minutia\n",
    "\n",
    "neighbour_regexp = re.compile(\n",
    "     \"^(?P<mx>[0-9]+),\"             +  # the x-pixel coordinate of the neighbouring minutia\n",
    "      \"(?P<my>[0-9]+);\"             +  # the y-pixel coordinate of the neighbouring minutia\n",
    "      \"(?P<rc>[0-9]+)$\")               # the ridge count calculated between the detected minutia and its first neighbor\n",
    "\n",
    "def toNumberIfPossible(string):\n",
    "    try:\n",
    "        return int(string)\n",
    "    except ValueError:\n",
    "        try:\n",
    "            return float(string)\n",
    "        except ValueError:\n",
    "            return string\n",
    "\n",
    "def parseMinutia(string):\n",
    "    string = ''.join(list(x for x in string if x != ' '))\n",
    "    m = re.match(minutia_regexp, string)\n",
    "    if (m is None):\n",
    "        raise Exception(\"Does not parse\")\n",
    "    res = {key:toNumberIfPossible(m.group(key)) for key in [\"id\",\"mx\",\"my\",\"dir\",\"rel\",\"typ\",\"ftyp\",\"fn\"]}\n",
    "    res[\"neighbours\"] = []\n",
    "    neighbours = m.group(\"neighbours\")\n",
    "    if neighbours:\n",
    "        neighbours = neighbours.split(\":\")\n",
    "        for neighbour in neighbours:\n",
    "            ren = re.match(neighbour_regexp, neighbour)\n",
    "            res[\"neighbours\"].append({key:toNumberIfPossible(ren.group(key)) for key in [\"mx\",\"my\",\"rc\"]})\n",
    "    return res\n",
    "    \n",
    "def parseFilename(filename):\n",
    "    res = None\n",
    "    with open(filename) as f:\n",
    "        res = {(mx,my): m \n",
    "               for (mx,my,m) \n",
    "               in map(\n",
    "                    comp(lambda x: (x[\"mx\"], x[\"my\"], x), parseMinutia),\n",
    "                    list(f)[4:]\n",
    "                )\n",
    "        }\n",
    "    for minutia in res.values():\n",
    "        for n in minutia[\"neighbours\"]:\n",
    "            n[\"dir\"] = res[(n[\"mx\"],n[\"my\"])][\"dir\"]\n",
    "    return list(res.values())\n",
    "    \n",
    "        "
   ]
  },
  {
   "cell_type": "code",
   "execution_count": 7,
   "metadata": {},
   "outputs": [],
   "source": [
    "def rotate(vector, steps): # 32 steps in 360 degrees\n",
    "    x = vector[0]*math.cos(steps*math.pi / 16) - vector[1]*math.sin(steps*math.pi / 16)\n",
    "    y = vector[0]*math.sin(steps*math.pi / 16) + vector[1]*math.cos(steps*math.pi / 16)\n",
    "    return (x,y)\n",
    "\n",
    "def length(vector):\n",
    "    return (vector[0]**2+vector[1]**2)**0.5\n",
    "\n",
    "def angle(vec1, vec2):\n",
    "    dotproduct = vec1[0]*vec2[0] + vec1[1]*vec2[1]\n",
    "    return dotproduct / (length(vec1)*length(vec2))"
   ]
  },
  {
   "cell_type": "code",
   "execution_count": 8,
   "metadata": {},
   "outputs": [],
   "source": [
    "def fingers():\n",
    "    dir = r\"mindtct/shelved_pairs_of_fingers/\"\n",
    "    import os, shelve\n",
    "    files = [x for x in os.listdir(dir) if x.endswith(\".dat\")]\n",
    "    for file in files:\n",
    "        try:\n",
    "            d = shelve.open(dir+file[:-len(\".dat\")], flag='r')\n",
    "            yield d[\"finger\"]\n",
    "            d.close()\n",
    "        except:\n",
    "            continue"
   ]
  },
  {
   "cell_type": "code",
   "execution_count": 9,
   "metadata": {},
   "outputs": [
    {
     "name": "stderr",
     "output_type": "stream",
     "text": [
      "Exception ignored in: <generator object fingers at 0x0000007B3C29F620>\n",
      "RuntimeError: generator ignored GeneratorExit\n"
     ]
    }
   ],
   "source": [
    "cached_fingers = []\n",
    "for finger, _ in zip(fingers(), range(100)):\n",
    "    cached_fingers.append(finger)"
   ]
  },
  {
   "cell_type": "code",
   "execution_count": 37,
   "metadata": {},
   "outputs": [],
   "source": [
    "class Matcher:\n",
    "    NotSimilarAtAll = 10**10\n",
    "    \n",
    "    def __init__(self, **params):\n",
    "        self.N = params[\"N\"]\n",
    "        self.OptValue = params[\"OptValue\"]\n",
    "        self.MinDissimilarity = params[\"MinDissimilarity\"]  # MUST be stricter than OptValue\n",
    "        self.thresholds = params[\"thresholds\"]\n",
    "        self.weights = params[\"weights\"]\n",
    "        self.finalMatchThreshold= params[\"finalMatchThreshold\"]\n",
    "        self.minutiaProcessed = 5\n",
    "        \n",
    "        self.comparisons = 0\n",
    "        \n",
    "    def angle(self, vec1, vec2):\n",
    "        from math import atan2, pi\n",
    "        dotproduct = vec1[0]*vec2[0] + vec1[1]*vec2[1]\n",
    "        determinant= vec1[0]*vec2[1] + vec1[1]*vec2[0]\n",
    "        return atan2(determinant, dotproduct) + pi\n",
    "    \n",
    "    def diff(self, P, N):\n",
    "        return ((P[\"mx\"]-N[\"mx\"]), (P[\"my\"]-N[\"my\"]))\n",
    "            \n",
    "    def rotate(self, vector, steps): # 32 steps in 360 degrees\n",
    "        x = vector[0]*math.cos(steps*math.pi / 16) - vector[1]*math.sin(steps*math.pi / 16)\n",
    "        y = vector[0]*math.sin(steps*math.pi / 16) + vector[1]*math.cos(steps*math.pi / 16)\n",
    "        return (x,y)\n",
    "       \n",
    "    def euclidian_distance(self, P,N):\n",
    "        D  =  self.diff(P,N)\n",
    "        return (D[0]**2+D[1]**2)**0.5\n",
    "    \n",
    "    def distance_relative_angle(self, P,N):\n",
    "        up = (0,-1)\n",
    "        Pdir = self.rotate(up,P[\"dir\"])\n",
    "        D = self.diff(P,N)\n",
    "        return self.angle((-D[0],-D[1]), Pdir)\n",
    "    \n",
    "    def orientation_relative_angle(self, P,N):\n",
    "        up = (0,-1)\n",
    "        Pdir = self.rotate(up, P[\"dir\"])\n",
    "        Ndir = self.rotate(up, N[\"dir\"])\n",
    "        return self.angle(Pdir, Ndir) # maybe inaccurate\n",
    "        \n",
    "    def ridge_count(self, P,N):\n",
    "        return N[\"rc\"]\n",
    "    \n",
    "    def bounding_box(self,diffs):\n",
    "        if not all(\n",
    "            x < y for (x,y) in zip(diffs, self.thresholds)\n",
    "        ):\n",
    "            #print (\"Out of the box:\", diffs)\n",
    "            return False\n",
    "        return (x / y for (x,y) in zip(diffs, self.thresholds))\n",
    "        \n",
    "    def match_neighbours(self,p1,p2,n1,n2):\n",
    "        \"\"\"print(\"Parent1: {}\\n Neighbour1: {}\\n Parent2: {}\\n Neighbour2: {}\". format(\n",
    "            str({x:y for (x,y) in p1.items() if x!=\"neighbours\"}),\n",
    "            str({x:y for (x,y) in n1.items() if x!=\"neighbours\"}),\n",
    "            str({x:y for (x,y) in p2.items() if x!=\"neighbours\"}),\n",
    "            str({x:y for (x,y) in n2.items() if x!=\"neighbours\"}),\n",
    "        ))\"\"\"\n",
    "        self.comparisons += 1\n",
    "        Ed1 = self.euclidian_distance(p1,n1)\n",
    "        Ed2 = self.euclidian_distance(p2,n2)\n",
    "        Dra1= self.distance_relative_angle(p1,n1)\n",
    "        Dra2= self.distance_relative_angle(p2,n2)\n",
    "        Ora1= self.orientation_relative_angle(p1,n1)\n",
    "        Ora2= self.orientation_relative_angle(p2,n2)\n",
    "        Rc1 = self.ridge_count(p1,n1)\n",
    "        Rc2 = self.ridge_count(p2,n2)\n",
    "        \n",
    "        EdDiff = abs(Ed2-Ed1)\n",
    "        DraDiff= abs(Dra2-Dra1)\n",
    "        OraDiff= abs(Ora2-Ora1)\n",
    "        RcDiff = abs(Rc2 - Rc1)\n",
    "        \n",
    "        diffs = (EdDiff, DraDiff, OraDiff, RcDiff)\n",
    "        \n",
    "        normalized = self.bounding_box(diffs)\n",
    "        if not normalized:\n",
    "            return Matcher.NotSimilarAtAll\n",
    "        \n",
    "        weighted_diffs = list(x*y for (x,y) in zip(normalized, self.weights))\n",
    "        #print(\"Weighted\", weighted_diffs)\n",
    "        \n",
    "        return sum(weighted_diffs)\n",
    "        \n",
    "    def match_minutia(self,min1, min2):\n",
    "        #print(\"1: {} neighs, 2: {} neighs\".format(len(min1[\"neighbours\"]),len(min2[\"neighbours\"])))\n",
    "        matchedIs = []\n",
    "        matchedJs = []\n",
    "        totalDissimilarity = 0\n",
    "        neighboursMatched = 0\n",
    "        for iindex, I in enumerate(min1[\"neighbours\"]):\n",
    "            if iindex in matchedIs: continue\n",
    "            mostSimilarIndex = None\n",
    "            mostSimilarDissimilarity = None\n",
    "            for jindex, J in enumerate(min2[\"neighbours\"]):\n",
    "                if jindex in matchedJs: continue\n",
    "                dissimilarity = self.match_neighbours(min1,min2,I,J)\n",
    "                if (dissimilarity is False):\n",
    "                    continue\n",
    "                if (mostSimilarDissimilarity is None) or (mostSimilarDissimilarity > dissimilarity):\n",
    "                    mostSimilarIndex = jindex\n",
    "                    mostSimilarDissimilarity = dissimilarity\n",
    "            if mostSimilarDissimilarity is Matcher.NotSimilarAtAll:\n",
    "                return Matcher.NotSimilarAtAll\n",
    "            if (mostSimilarIndex is None):\n",
    "                continue\n",
    "            matchedIs.append(iindex)\n",
    "            matchedJs.append(mostSimilarIndex)\n",
    "            totalDissimilarity += (mostSimilarDissimilarity)\n",
    "            neighboursMatched += 1\n",
    "            #print (\"Matched {} with {}\".format(iindex, mostSimilarIndex))\n",
    "            if (neighboursMatched >= self.N):\n",
    "                return totalDissimilarity / neighboursMatched\n",
    "        return Matcher.NotSimilarAtAll\n",
    "                \n",
    "    \n",
    "    def filter_minutia(self,finger):\n",
    "        import itertools\n",
    "        return list(itertools.islice(sorted(finger, key=lambda x: -x[\"rel\"]) ,self.minutiaProcessed))\n",
    "    \n",
    "    def stoppingConditions(self,MatchCost,LastDissimilarity,TotalMatched):\n",
    "        return any([\n",
    "            MatchCost / TotalMatched < self.OptValue,\n",
    "            LastDissimilarity        < self.MinDissimilarity,\n",
    "        ])\n",
    "        \n",
    "    def __call__(self,candidate, reference):\n",
    "        candidate = self.filter_minutia(candidate)\n",
    "        reference = self.filter_minutia(reference)\n",
    "        matchedCs = []\n",
    "        matchedRs = []\n",
    "        totalDissimilarity = 0\n",
    "        minutiaeMatched = 0\n",
    "        for cindex, C in enumerate(candidate):\n",
    "            if cindex in matchedCs: continue\n",
    "            mostSimilarIndex = None\n",
    "            mostSimilarDissimilarity = None\n",
    "            for rindex, R in enumerate(reference):\n",
    "                if rindex in matchedRs: continue\n",
    "                dissimilarity = self.match_minutia(C,R)\n",
    "                #print(\"Returned: {}\".format(dissimilarity))\n",
    "                if (mostSimilarDissimilarity is None) or (mostSimilarDissimilarity > dissimilarity):\n",
    "                    mostSimilarIndex = rindex\n",
    "                    mostSimilarDissimilarity = dissimilarity\n",
    "            if mostSimilarDissimilarity is Matcher.NotSimilarAtAll:\n",
    "                #print (\"Total mismatch\")\n",
    "                #print(\"COMPARISONS\", self.comparisons)\n",
    "                return False\n",
    "            matchedCs.append(cindex)\n",
    "            matchedRs.append(mostSimilarIndex)\n",
    "            totalDissimilarity += (mostSimilarDissimilarity)\n",
    "            minutiaeMatched += 1\n",
    "            #print(\"Matched {} with {} at dissimilarity {}\".format(cindex,mostSimilarIndex,mostSimilarDissimilarity))\n",
    "            if self.stoppingConditions(totalDissimilarity, mostSimilarDissimilarity, minutiaeMatched):\n",
    "                #print(\"COMPARISONS\", self.comparisons)\n",
    "                return True\n",
    "        #print (\"Total dissimilarity: {}\".format(totalDissimilarity))\n",
    "        #print(\"COMPARISONS\", self.comparisons)\n",
    "        return (totalDissimilarity / minutiaeMatched < self.finalMatchThreshold)"
   ]
  },
  {
   "cell_type": "code",
   "execution_count": 11,
   "metadata": {},
   "outputs": [
    {
     "data": {
      "text/plain": [
       "True"
      ]
     },
     "execution_count": 11,
     "metadata": {},
     "output_type": "execute_result"
    }
   ],
   "source": [
    "import ParseFingers as PF\n",
    "\n",
    "testFinger = PF.parseFilename(r\"mindtct/minutie/f0001_01.png.min\")\n",
    "testFinger2 = PF.parseFilename(r\"mindtct/minutie/f0002_05.png.min\")\n",
    "\n",
    "test = {'MinDissimilarity': 2.2306793596698347,\n",
    " 'N': 2.0,\n",
    " 'OptValue': 2.962895941182219,\n",
    " 'finalMatchThreshold': 9.510819603577431,\n",
    " 'thresholds': [39.978606828772456,\n",
    "  13.72104482880197,\n",
    "  1.03034591789699,\n",
    "  2],\n",
    " 'weights': (lambda l: [x/sum(l) for x in l]) ([10,1,1,8])}\n",
    "\n",
    "match = Matcher(**test)\n",
    "\n",
    "match(testFinger, testFinger2)"
   ]
  },
  {
   "cell_type": "code",
   "execution_count": 12,
   "metadata": {},
   "outputs": [],
   "source": [
    "def test_batch():\n",
    "    def cached():\n",
    "        for finer in cached_fingers:\n",
    "            yield finer\n",
    "    gen = cached() # fingers()\n",
    "    while True:\n",
    "        valid1 = next(gen)\n",
    "        valid2 = next(gen)\n",
    "        switch1= next(gen)\n",
    "        switch2= next(gen)\n",
    "        yield [(valid1, True), (valid2, True)] + [(x,False) for x in list(zip(switch1, switch2))]"
   ]
  },
  {
   "cell_type": "code",
   "execution_count": 13,
   "metadata": {},
   "outputs": [],
   "source": [
    "params = {\n",
    "    \"N\": 3,\n",
    "    \"OptValue\": 2,\n",
    "    \"MinDissimilarity\": 0.5,\n",
    "    \"thresholds\": [150,6,5,5],\n",
    "    \"weights\": (lambda l: [x/sum(l) for x in l]) ([1,1,1,1]),\n",
    "    \"finalMatchThreshold\": 10,\n",
    "}\n",
    "\n",
    "m = Matcher(**params)\n",
    "#m(*next(fingers()))"
   ]
  },
  {
   "cell_type": "code",
   "execution_count": 14,
   "metadata": {},
   "outputs": [],
   "source": [
    "tn = 0\n",
    "tp = 0\n",
    "fn = 0\n",
    "fp = 0\n",
    "def test_matcher(matcher, points=100):\n",
    "    global tn,tp,fn,fp\n",
    "    score = 0\n",
    "    potential_score = 0\n",
    "    for x,_ in zip(test_batch(), range(points)):\n",
    "        for pair, value in x:\n",
    "            res = matcher(*pair)\n",
    "            if (res,value) == (False,False):\n",
    "                tn+=1\n",
    "            elif (res,value) == (False,True):\n",
    "                fn+=1\n",
    "            elif (res,value) == (True,False):\n",
    "                fp+=1\n",
    "            elif (res,value) == (True,True):\n",
    "                tp+=1\n",
    "            if (res==value): score+=1\n",
    "            potential_score +=1\n",
    "    return score"
   ]
  },
  {
   "cell_type": "code",
   "execution_count": 15,
   "metadata": {
    "collapsed": true
   },
   "outputs": [],
   "source": [
    "points = [] # (FP, FN)"
   ]
  },
  {
   "cell_type": "code",
   "execution_count": 24,
   "metadata": {},
   "outputs": [
    {
     "data": {
      "text/plain": [
       "24455"
      ]
     },
     "execution_count": 24,
     "metadata": {},
     "output_type": "execute_result"
    }
   ],
   "source": [
    "len(points)"
   ]
  },
  {
   "cell_type": "code",
   "execution_count": 42,
   "metadata": {
    "collapsed": true
   },
   "outputs": [],
   "source": [
    "positive_matches = []\n",
    "negative_matches = []"
   ]
  },
  {
   "cell_type": "code",
   "execution_count": 49,
   "metadata": {},
   "outputs": [
    {
     "data": {
      "text/plain": [
       "[37,\n",
       " 39,\n",
       " 31,\n",
       " 33,\n",
       " 37,\n",
       " 33,\n",
       " 37,\n",
       " 45,\n",
       " 33,\n",
       " 29,\n",
       " 41,\n",
       " 29,\n",
       " 37,\n",
       " 33,\n",
       " 41,\n",
       " 37,\n",
       " 33,\n",
       " 33,\n",
       " 41,\n",
       " 37,\n",
       " 45,\n",
       " 33,\n",
       " 33,\n",
       " 37,\n",
       " 33,\n",
       " 41,\n",
       " 41,\n",
       " 33,\n",
       " 33,\n",
       " 29,\n",
       " 41,\n",
       " 33,\n",
       " 37,\n",
       " 33,\n",
       " 41,\n",
       " 41,\n",
       " 41,\n",
       " 29,\n",
       " 29,\n",
       " 33,\n",
       " 41,\n",
       " 45,\n",
       " 41]"
      ]
     },
     "execution_count": 49,
     "metadata": {},
     "output_type": "execute_result"
    }
   ],
   "source": [
    "positive_matches[2]"
   ]
  },
  {
   "cell_type": "code",
   "execution_count": 44,
   "metadata": {
    "collapsed": true
   },
   "outputs": [],
   "source": [
    "def test_matcher(matcher, points=100):\n",
    "    tn,tp,fn,fp = 0,0,0,0\n",
    "    for x,_ in zip(test_batch(), range(points)):\n",
    "        for pair, value in x:\n",
    "            res = matcher(*pair)\n",
    "            if (res,value) == (False,False):\n",
    "                tn+=1\n",
    "            elif (res,value) == (False,True):\n",
    "                fn+=1\n",
    "            elif (res,value) == (True,False):\n",
    "                fp+=1\n",
    "            elif (res,value) == (True,True):\n",
    "                tp+=1\n",
    "    return (fp,fn)"
   ]
  },
  {
   "cell_type": "code",
   "execution_count": 45,
   "metadata": {
    "collapsed": true
   },
   "outputs": [],
   "source": [
    "def test_performance(matcher, points=100):\n",
    "    positive_matches, negative_matches = [], []\n",
    "    for x,_ in zip(test_batch(), range(points)):\n",
    "        for pair, value in x:\n",
    "            res = matcher(*pair)\n",
    "            if res == True:\n",
    "                positive_matches.append(matcher.comparisons)\n",
    "            else:\n",
    "                negative_matches.append(matcher.comparisons)\n",
    "            matcher.comparisons = 0\n",
    "    print (sum(positive_matches) / len(positive_matches), sum(negative_matches) / len(negative_matches))\n",
    "    return positive_matches, negative_matches"
   ]
  },
  {
   "cell_type": "code",
   "execution_count": 46,
   "metadata": {},
   "outputs": [
    {
     "name": "stderr",
     "output_type": "stream",
     "text": [
      "C:\\Program Files\\Anaconda3\\lib\\site-packages\\ipykernel_launcher.py:3: DeprecationWarning: generator 'test_batch' raised StopIteration\n",
      "  This is separate from the ipykernel package so we can avoid doing imports until\n"
     ]
    },
    {
     "name": "stdout",
     "output_type": "stream",
     "text": [
      "24.85185185185185 24.31578947368421\n",
      "42.26315789473684 32.81481481481482\n",
      "36.25581395348837 28.12280701754386\n",
      "45.07142857142857 33.96511627906977\n",
      "43.392857142857146 34.15277777777778\n",
      "47.142857142857146 37.48837209302326\n",
      "24.830985915492956 24.551724137931036\n",
      "41.5 33.2972972972973\n",
      "24.85 24.35\n",
      "45.142857142857146 31.591397849462364\n",
      "45.0 34.23076923076923\n",
      "38.41269841269841 29.83783783783784\n",
      "37.8 29.1\n",
      "40.0 31.493827160493826\n",
      "44.0 33.34782608695652\n",
      "24.82089552238806 24.606060606060606\n",
      "42.806451612903224 33.608695652173914\n",
      "24.844155844155843 24.434782608695652\n",
      "24.87323943661972 24.448275862068964\n",
      "42.07692307692308 33.554054054054056\n",
      "48.07142857142857 38.22093023255814\n",
      "34.86 28.3\n",
      "44.32258064516129 34.81159420289855\n",
      "34.98 28.18\n",
      "44.25 32.31521739130435\n",
      "43.6 32.83529411764706\n",
      "36.64150943396226 29.148936170212767\n",
      "48.69230769230769 37.206896551724135\n",
      "45.1 31.511111111111113\n",
      "24.848101265822784 24.38095238095238\n",
      "45.875 36.46739130434783\n",
      "44.38461538461539 33.724137931034484\n",
      "48.07142857142857 37.45348837209303\n",
      "24.844827586206897 24.61904761904762\n",
      "24.83783783783784 24.5\n",
      "43.59375 34.0\n",
      "24.835616438356166 24.51851851851852\n",
      "38.129629629629626 29.76086956521739\n",
      "44.35294117647059 34.833333333333336\n",
      "44.294117647058826 35.22727272727273\n",
      "24.852459016393443 24.58974358974359\n",
      "37.166666666666664 28.891304347826086\n",
      "43.470588235294116 37.166666666666664\n",
      "24.842105263157894 24.458333333333332\n",
      "34.57142857142857 28.235294117647058\n",
      "37.8 29.233333333333334\n",
      "36.23529411764706 28.816326530612244\n",
      "34.83870967741935 27.73913043478261\n",
      "34.714285714285715 28.046153846153846\n",
      "36.94230769230769 28.979166666666668\n",
      "45.0 35.362637362637365\n",
      "39.888888888888886 31.51219512195122\n",
      "47.8 36.1\n",
      "46.38461538461539 37.0919540229885\n",
      "40.13636363636363 31.628205128205128\n",
      "43.93103448275862 34.61971830985915\n",
      "24.85 24.35\n",
      "35.744680851063826 28.528301886792452\n",
      "24.835616438356166 24.51851851851852\n",
      "37.666666666666664 28.96551724137931\n",
      "24.844155844155843 24.434782608695652\n",
      "26.363636363636363 29.177777777777777\n",
      "45.1 33.82222222222222\n",
      "44.25 33.725\n",
      "45.0 34.89655172413793\n",
      "36.17948717948718 28.18032786885246\n",
      "24.830985915492956 24.551724137931036\n",
      "24.85 24.35\n",
      "37.24074074074074 29.23913043478261\n",
      "24.846153846153847 24.40909090909091\n",
      "42.54838709677419 33.289855072463766\n",
      "24.844155844155843 24.434782608695652\n",
      "39.63333333333333 32.22857142857143\n",
      "39.44 31.453333333333333\n",
      "26.507462686567163 27.636363636363637\n",
      "43.55555555555556 34.38356164383562\n",
      "24.842105263157894 24.458333333333332\n",
      "46.4 30.652631578947368\n",
      "47.3 35.96666666666667\n",
      "24.84 24.48\n",
      "41.74193548387097 32.91304347826087\n",
      "36.6875 29.28846153846154\n",
      "45.1025641025641 35.57377049180328\n",
      "45.92857142857143 36.151162790697676\n",
      "24.82089552238806 24.606060606060606\n",
      "47.3 35.63333333333333\n",
      "36.09615384615385 28.979166666666668\n",
      "45.166666666666664 31.30851063829787\n",
      "34.75 27.875\n",
      "24.85 24.35\n",
      "44.72727272727273 32.674157303370784\n",
      "37.68518518518518 29.23913043478261\n",
      "37.67272727272727 29.333333333333332\n"
     ]
    },
    {
     "ename": "KeyboardInterrupt",
     "evalue": "",
     "output_type": "error",
     "traceback": [
      "\u001b[1;31m---------------------------------------------------------------------------\u001b[0m",
      "\u001b[1;31mKeyboardInterrupt\u001b[0m                         Traceback (most recent call last)",
      "\u001b[1;32m<ipython-input-46-3f2ffbc41313>\u001b[0m in \u001b[0;36m<module>\u001b[1;34m()\u001b[0m\n\u001b[0;32m     23\u001b[0m         \u001b[1;31m#points.append(res)\u001b[0m\u001b[1;33m\u001b[0m\u001b[1;33m\u001b[0m\u001b[0m\n\u001b[0;32m     24\u001b[0m \u001b[1;33m\u001b[0m\u001b[0m\n\u001b[1;32m---> 25\u001b[1;33m \u001b[0mcollect_randomized_data\u001b[0m\u001b[1;33m(\u001b[0m\u001b[1;33m)\u001b[0m\u001b[1;33m\u001b[0m\u001b[0m\n\u001b[0m",
      "\u001b[1;32m<ipython-input-46-3f2ffbc41313>\u001b[0m in \u001b[0;36mcollect_randomized_data\u001b[1;34m()\u001b[0m\n\u001b[0;32m     17\u001b[0m \u001b[1;33m\u001b[0m\u001b[0m\n\u001b[0;32m     18\u001b[0m         \u001b[0mmatcher\u001b[0m \u001b[1;33m=\u001b[0m \u001b[0mMatcher\u001b[0m\u001b[1;33m(\u001b[0m\u001b[1;33m**\u001b[0m\u001b[0mres\u001b[0m\u001b[1;33m)\u001b[0m\u001b[1;33m\u001b[0m\u001b[0m\n\u001b[1;32m---> 19\u001b[1;33m         \u001b[0mp\u001b[0m\u001b[1;33m,\u001b[0m\u001b[0mn\u001b[0m \u001b[1;33m=\u001b[0m \u001b[0mtest_performance\u001b[0m\u001b[1;33m(\u001b[0m\u001b[0mmatcher\u001b[0m\u001b[1;33m)\u001b[0m\u001b[1;33m\u001b[0m\u001b[0m\n\u001b[0m\u001b[0;32m     20\u001b[0m         \u001b[0mpositive_matches\u001b[0m\u001b[1;33m.\u001b[0m\u001b[0mappend\u001b[0m\u001b[1;33m(\u001b[0m\u001b[0mp\u001b[0m\u001b[1;33m)\u001b[0m\u001b[1;33m\u001b[0m\u001b[0m\n\u001b[0;32m     21\u001b[0m         \u001b[0mnegative_matches\u001b[0m\u001b[1;33m.\u001b[0m\u001b[0mappend\u001b[0m\u001b[1;33m(\u001b[0m\u001b[0mn\u001b[0m\u001b[1;33m)\u001b[0m\u001b[1;33m\u001b[0m\u001b[0m\n",
      "\u001b[1;32m<ipython-input-45-7406e6c9dea9>\u001b[0m in \u001b[0;36mtest_performance\u001b[1;34m(matcher, points)\u001b[0m\n\u001b[0;32m      3\u001b[0m     \u001b[1;32mfor\u001b[0m \u001b[0mx\u001b[0m\u001b[1;33m,\u001b[0m\u001b[0m_\u001b[0m \u001b[1;32min\u001b[0m \u001b[0mzip\u001b[0m\u001b[1;33m(\u001b[0m\u001b[0mtest_batch\u001b[0m\u001b[1;33m(\u001b[0m\u001b[1;33m)\u001b[0m\u001b[1;33m,\u001b[0m \u001b[0mrange\u001b[0m\u001b[1;33m(\u001b[0m\u001b[0mpoints\u001b[0m\u001b[1;33m)\u001b[0m\u001b[1;33m)\u001b[0m\u001b[1;33m:\u001b[0m\u001b[1;33m\u001b[0m\u001b[0m\n\u001b[0;32m      4\u001b[0m         \u001b[1;32mfor\u001b[0m \u001b[0mpair\u001b[0m\u001b[1;33m,\u001b[0m \u001b[0mvalue\u001b[0m \u001b[1;32min\u001b[0m \u001b[0mx\u001b[0m\u001b[1;33m:\u001b[0m\u001b[1;33m\u001b[0m\u001b[0m\n\u001b[1;32m----> 5\u001b[1;33m             \u001b[0mres\u001b[0m \u001b[1;33m=\u001b[0m \u001b[0mmatcher\u001b[0m\u001b[1;33m(\u001b[0m\u001b[1;33m*\u001b[0m\u001b[0mpair\u001b[0m\u001b[1;33m)\u001b[0m\u001b[1;33m\u001b[0m\u001b[0m\n\u001b[0m\u001b[0;32m      6\u001b[0m             \u001b[1;32mif\u001b[0m \u001b[0mres\u001b[0m \u001b[1;33m==\u001b[0m \u001b[1;32mTrue\u001b[0m\u001b[1;33m:\u001b[0m\u001b[1;33m\u001b[0m\u001b[0m\n\u001b[0;32m      7\u001b[0m                 \u001b[0mpositive_matches\u001b[0m\u001b[1;33m.\u001b[0m\u001b[0mappend\u001b[0m\u001b[1;33m(\u001b[0m\u001b[0mmatcher\u001b[0m\u001b[1;33m.\u001b[0m\u001b[0mcomparisons\u001b[0m\u001b[1;33m)\u001b[0m\u001b[1;33m\u001b[0m\u001b[0m\n",
      "\u001b[1;32m<ipython-input-37-b9b714d543f3>\u001b[0m in \u001b[0;36m__call__\u001b[1;34m(self, candidate, reference)\u001b[0m\n\u001b[0;32m    142\u001b[0m             \u001b[1;32mfor\u001b[0m \u001b[0mrindex\u001b[0m\u001b[1;33m,\u001b[0m \u001b[0mR\u001b[0m \u001b[1;32min\u001b[0m \u001b[0menumerate\u001b[0m\u001b[1;33m(\u001b[0m\u001b[0mreference\u001b[0m\u001b[1;33m)\u001b[0m\u001b[1;33m:\u001b[0m\u001b[1;33m\u001b[0m\u001b[0m\n\u001b[0;32m    143\u001b[0m                 \u001b[1;32mif\u001b[0m \u001b[0mrindex\u001b[0m \u001b[1;32min\u001b[0m \u001b[0mmatchedRs\u001b[0m\u001b[1;33m:\u001b[0m \u001b[1;32mcontinue\u001b[0m\u001b[1;33m\u001b[0m\u001b[0m\n\u001b[1;32m--> 144\u001b[1;33m                 \u001b[0mdissimilarity\u001b[0m \u001b[1;33m=\u001b[0m \u001b[0mself\u001b[0m\u001b[1;33m.\u001b[0m\u001b[0mmatch_minutia\u001b[0m\u001b[1;33m(\u001b[0m\u001b[0mC\u001b[0m\u001b[1;33m,\u001b[0m\u001b[0mR\u001b[0m\u001b[1;33m)\u001b[0m\u001b[1;33m\u001b[0m\u001b[0m\n\u001b[0m\u001b[0;32m    145\u001b[0m                 \u001b[1;31m#print(\"Returned: {}\".format(dissimilarity))\u001b[0m\u001b[1;33m\u001b[0m\u001b[1;33m\u001b[0m\u001b[0m\n\u001b[0;32m    146\u001b[0m                 \u001b[1;32mif\u001b[0m \u001b[1;33m(\u001b[0m\u001b[0mmostSimilarDissimilarity\u001b[0m \u001b[1;32mis\u001b[0m \u001b[1;32mNone\u001b[0m\u001b[1;33m)\u001b[0m \u001b[1;32mor\u001b[0m \u001b[1;33m(\u001b[0m\u001b[0mmostSimilarDissimilarity\u001b[0m \u001b[1;33m>\u001b[0m \u001b[0mdissimilarity\u001b[0m\u001b[1;33m)\u001b[0m\u001b[1;33m:\u001b[0m\u001b[1;33m\u001b[0m\u001b[0m\n",
      "\u001b[1;32m<ipython-input-37-b9b714d543f3>\u001b[0m in \u001b[0;36mmatch_minutia\u001b[1;34m(self, min1, min2)\u001b[0m\n\u001b[0;32m     99\u001b[0m             \u001b[1;32mfor\u001b[0m \u001b[0mjindex\u001b[0m\u001b[1;33m,\u001b[0m \u001b[0mJ\u001b[0m \u001b[1;32min\u001b[0m \u001b[0menumerate\u001b[0m\u001b[1;33m(\u001b[0m\u001b[0mmin2\u001b[0m\u001b[1;33m[\u001b[0m\u001b[1;34m\"neighbours\"\u001b[0m\u001b[1;33m]\u001b[0m\u001b[1;33m)\u001b[0m\u001b[1;33m:\u001b[0m\u001b[1;33m\u001b[0m\u001b[0m\n\u001b[0;32m    100\u001b[0m                 \u001b[1;32mif\u001b[0m \u001b[0mjindex\u001b[0m \u001b[1;32min\u001b[0m \u001b[0mmatchedJs\u001b[0m\u001b[1;33m:\u001b[0m \u001b[1;32mcontinue\u001b[0m\u001b[1;33m\u001b[0m\u001b[0m\n\u001b[1;32m--> 101\u001b[1;33m                 \u001b[0mdissimilarity\u001b[0m \u001b[1;33m=\u001b[0m \u001b[0mself\u001b[0m\u001b[1;33m.\u001b[0m\u001b[0mmatch_neighbours\u001b[0m\u001b[1;33m(\u001b[0m\u001b[0mmin1\u001b[0m\u001b[1;33m,\u001b[0m\u001b[0mmin2\u001b[0m\u001b[1;33m,\u001b[0m\u001b[0mI\u001b[0m\u001b[1;33m,\u001b[0m\u001b[0mJ\u001b[0m\u001b[1;33m)\u001b[0m\u001b[1;33m\u001b[0m\u001b[0m\n\u001b[0m\u001b[0;32m    102\u001b[0m                 \u001b[1;32mif\u001b[0m \u001b[1;33m(\u001b[0m\u001b[0mdissimilarity\u001b[0m \u001b[1;32mis\u001b[0m \u001b[1;32mFalse\u001b[0m\u001b[1;33m)\u001b[0m\u001b[1;33m:\u001b[0m\u001b[1;33m\u001b[0m\u001b[0m\n\u001b[0;32m    103\u001b[0m                     \u001b[1;32mcontinue\u001b[0m\u001b[1;33m\u001b[0m\u001b[0m\n",
      "\u001b[1;32m<ipython-input-37-b9b714d543f3>\u001b[0m in \u001b[0;36mmatch_neighbours\u001b[1;34m(self, p1, p2, n1, n2)\u001b[0m\n\u001b[0;32m     67\u001b[0m         \u001b[0mDra2\u001b[0m\u001b[1;33m=\u001b[0m \u001b[0mself\u001b[0m\u001b[1;33m.\u001b[0m\u001b[0mdistance_relative_angle\u001b[0m\u001b[1;33m(\u001b[0m\u001b[0mp2\u001b[0m\u001b[1;33m,\u001b[0m\u001b[0mn2\u001b[0m\u001b[1;33m)\u001b[0m\u001b[1;33m\u001b[0m\u001b[0m\n\u001b[0;32m     68\u001b[0m         \u001b[0mOra1\u001b[0m\u001b[1;33m=\u001b[0m \u001b[0mself\u001b[0m\u001b[1;33m.\u001b[0m\u001b[0morientation_relative_angle\u001b[0m\u001b[1;33m(\u001b[0m\u001b[0mp1\u001b[0m\u001b[1;33m,\u001b[0m\u001b[0mn1\u001b[0m\u001b[1;33m)\u001b[0m\u001b[1;33m\u001b[0m\u001b[0m\n\u001b[1;32m---> 69\u001b[1;33m         \u001b[0mOra2\u001b[0m\u001b[1;33m=\u001b[0m \u001b[0mself\u001b[0m\u001b[1;33m.\u001b[0m\u001b[0morientation_relative_angle\u001b[0m\u001b[1;33m(\u001b[0m\u001b[0mp2\u001b[0m\u001b[1;33m,\u001b[0m\u001b[0mn2\u001b[0m\u001b[1;33m)\u001b[0m\u001b[1;33m\u001b[0m\u001b[0m\n\u001b[0m\u001b[0;32m     70\u001b[0m         \u001b[0mRc1\u001b[0m \u001b[1;33m=\u001b[0m \u001b[0mself\u001b[0m\u001b[1;33m.\u001b[0m\u001b[0mridge_count\u001b[0m\u001b[1;33m(\u001b[0m\u001b[0mp1\u001b[0m\u001b[1;33m,\u001b[0m\u001b[0mn1\u001b[0m\u001b[1;33m)\u001b[0m\u001b[1;33m\u001b[0m\u001b[0m\n\u001b[0;32m     71\u001b[0m         \u001b[0mRc2\u001b[0m \u001b[1;33m=\u001b[0m \u001b[0mself\u001b[0m\u001b[1;33m.\u001b[0m\u001b[0mridge_count\u001b[0m\u001b[1;33m(\u001b[0m\u001b[0mp2\u001b[0m\u001b[1;33m,\u001b[0m\u001b[0mn2\u001b[0m\u001b[1;33m)\u001b[0m\u001b[1;33m\u001b[0m\u001b[0m\n",
      "\u001b[1;32m<ipython-input-37-b9b714d543f3>\u001b[0m in \u001b[0;36morientation_relative_angle\u001b[1;34m(self, P, N)\u001b[0m\n\u001b[0;32m     39\u001b[0m     \u001b[1;32mdef\u001b[0m \u001b[0morientation_relative_angle\u001b[0m\u001b[1;33m(\u001b[0m\u001b[0mself\u001b[0m\u001b[1;33m,\u001b[0m \u001b[0mP\u001b[0m\u001b[1;33m,\u001b[0m\u001b[0mN\u001b[0m\u001b[1;33m)\u001b[0m\u001b[1;33m:\u001b[0m\u001b[1;33m\u001b[0m\u001b[0m\n\u001b[0;32m     40\u001b[0m         \u001b[0mup\u001b[0m \u001b[1;33m=\u001b[0m \u001b[1;33m(\u001b[0m\u001b[1;36m0\u001b[0m\u001b[1;33m,\u001b[0m\u001b[1;33m-\u001b[0m\u001b[1;36m1\u001b[0m\u001b[1;33m)\u001b[0m\u001b[1;33m\u001b[0m\u001b[0m\n\u001b[1;32m---> 41\u001b[1;33m         \u001b[0mPdir\u001b[0m \u001b[1;33m=\u001b[0m \u001b[0mself\u001b[0m\u001b[1;33m.\u001b[0m\u001b[0mrotate\u001b[0m\u001b[1;33m(\u001b[0m\u001b[0mup\u001b[0m\u001b[1;33m,\u001b[0m \u001b[0mP\u001b[0m\u001b[1;33m[\u001b[0m\u001b[1;34m\"dir\"\u001b[0m\u001b[1;33m]\u001b[0m\u001b[1;33m)\u001b[0m\u001b[1;33m\u001b[0m\u001b[0m\n\u001b[0m\u001b[0;32m     42\u001b[0m         \u001b[0mNdir\u001b[0m \u001b[1;33m=\u001b[0m \u001b[0mself\u001b[0m\u001b[1;33m.\u001b[0m\u001b[0mrotate\u001b[0m\u001b[1;33m(\u001b[0m\u001b[0mup\u001b[0m\u001b[1;33m,\u001b[0m \u001b[0mN\u001b[0m\u001b[1;33m[\u001b[0m\u001b[1;34m\"dir\"\u001b[0m\u001b[1;33m]\u001b[0m\u001b[1;33m)\u001b[0m\u001b[1;33m\u001b[0m\u001b[0m\n\u001b[0;32m     43\u001b[0m         \u001b[1;32mreturn\u001b[0m \u001b[0mself\u001b[0m\u001b[1;33m.\u001b[0m\u001b[0mangle\u001b[0m\u001b[1;33m(\u001b[0m\u001b[0mPdir\u001b[0m\u001b[1;33m,\u001b[0m \u001b[0mNdir\u001b[0m\u001b[1;33m)\u001b[0m \u001b[1;31m# maybe inaccurate\u001b[0m\u001b[1;33m\u001b[0m\u001b[0m\n",
      "\u001b[1;32m<ipython-input-37-b9b714d543f3>\u001b[0m in \u001b[0;36mrotate\u001b[1;34m(self, vector, steps)\u001b[0m\n\u001b[0;32m     23\u001b[0m \u001b[1;33m\u001b[0m\u001b[0m\n\u001b[0;32m     24\u001b[0m     \u001b[1;32mdef\u001b[0m \u001b[0mrotate\u001b[0m\u001b[1;33m(\u001b[0m\u001b[0mself\u001b[0m\u001b[1;33m,\u001b[0m \u001b[0mvector\u001b[0m\u001b[1;33m,\u001b[0m \u001b[0msteps\u001b[0m\u001b[1;33m)\u001b[0m\u001b[1;33m:\u001b[0m \u001b[1;31m# 32 steps in 360 degrees\u001b[0m\u001b[1;33m\u001b[0m\u001b[0m\n\u001b[1;32m---> 25\u001b[1;33m         \u001b[0mx\u001b[0m \u001b[1;33m=\u001b[0m \u001b[0mvector\u001b[0m\u001b[1;33m[\u001b[0m\u001b[1;36m0\u001b[0m\u001b[1;33m]\u001b[0m\u001b[1;33m*\u001b[0m\u001b[0mmath\u001b[0m\u001b[1;33m.\u001b[0m\u001b[0mcos\u001b[0m\u001b[1;33m(\u001b[0m\u001b[0msteps\u001b[0m\u001b[1;33m*\u001b[0m\u001b[0mmath\u001b[0m\u001b[1;33m.\u001b[0m\u001b[0mpi\u001b[0m \u001b[1;33m/\u001b[0m \u001b[1;36m16\u001b[0m\u001b[1;33m)\u001b[0m \u001b[1;33m-\u001b[0m \u001b[0mvector\u001b[0m\u001b[1;33m[\u001b[0m\u001b[1;36m1\u001b[0m\u001b[1;33m]\u001b[0m\u001b[1;33m*\u001b[0m\u001b[0mmath\u001b[0m\u001b[1;33m.\u001b[0m\u001b[0msin\u001b[0m\u001b[1;33m(\u001b[0m\u001b[0msteps\u001b[0m\u001b[1;33m*\u001b[0m\u001b[0mmath\u001b[0m\u001b[1;33m.\u001b[0m\u001b[0mpi\u001b[0m \u001b[1;33m/\u001b[0m \u001b[1;36m16\u001b[0m\u001b[1;33m)\u001b[0m\u001b[1;33m\u001b[0m\u001b[0m\n\u001b[0m\u001b[0;32m     26\u001b[0m         \u001b[0my\u001b[0m \u001b[1;33m=\u001b[0m \u001b[0mvector\u001b[0m\u001b[1;33m[\u001b[0m\u001b[1;36m0\u001b[0m\u001b[1;33m]\u001b[0m\u001b[1;33m*\u001b[0m\u001b[0mmath\u001b[0m\u001b[1;33m.\u001b[0m\u001b[0msin\u001b[0m\u001b[1;33m(\u001b[0m\u001b[0msteps\u001b[0m\u001b[1;33m*\u001b[0m\u001b[0mmath\u001b[0m\u001b[1;33m.\u001b[0m\u001b[0mpi\u001b[0m \u001b[1;33m/\u001b[0m \u001b[1;36m16\u001b[0m\u001b[1;33m)\u001b[0m \u001b[1;33m+\u001b[0m \u001b[0mvector\u001b[0m\u001b[1;33m[\u001b[0m\u001b[1;36m1\u001b[0m\u001b[1;33m]\u001b[0m\u001b[1;33m*\u001b[0m\u001b[0mmath\u001b[0m\u001b[1;33m.\u001b[0m\u001b[0mcos\u001b[0m\u001b[1;33m(\u001b[0m\u001b[0msteps\u001b[0m\u001b[1;33m*\u001b[0m\u001b[0mmath\u001b[0m\u001b[1;33m.\u001b[0m\u001b[0mpi\u001b[0m \u001b[1;33m/\u001b[0m \u001b[1;36m16\u001b[0m\u001b[1;33m)\u001b[0m\u001b[1;33m\u001b[0m\u001b[0m\n\u001b[0;32m     27\u001b[0m         \u001b[1;32mreturn\u001b[0m \u001b[1;33m(\u001b[0m\u001b[0mx\u001b[0m\u001b[1;33m,\u001b[0m\u001b[0my\u001b[0m\u001b[1;33m)\u001b[0m\u001b[1;33m\u001b[0m\u001b[0m\n",
      "\u001b[1;31mKeyboardInterrupt\u001b[0m: "
     ]
    }
   ],
   "source": [
    "def collect_randomized_data():\n",
    "    global points, positive_matches, negative_matches\n",
    "    import random\n",
    "    while (True):\n",
    "        res = dict()\n",
    "        res [\"N\"]                   = random.randint (1,4)\n",
    "        res [\"OptValue\"]            = random.uniform (0.3, 4)\n",
    "        res [\"MinDissimilarity\"]    = random.uniform(0,res [\"OptValue\"])\n",
    "        res [\"thresholds\"]          = [\n",
    "                                        random.uniform(20,40),\n",
    "                                        random.uniform(8,20),\n",
    "                                        random.uniform(0.5,2),\n",
    "                                        2\n",
    "                                        ]\n",
    "        res [\"weights\"]             = (lambda l: [x/sum(l) for x in l]) ([10,1,1,8])\n",
    "        res [\"finalMatchThreshold\"] = max(res [\"OptValue\"], random.uniform(4,12))\n",
    "        \n",
    "        matcher = Matcher(**res)\n",
    "        p,n = test_performance(matcher)\n",
    "        positive_matches.append(p)\n",
    "        negative_matches.append(n)\n",
    "        #print(res)\n",
    "        #points.append(res)\n",
    "    \n",
    "collect_randomized_data()"
   ]
  },
  {
   "cell_type": "markdown",
   "metadata": {},
   "source": [
    "### Okay, time for some MACHINE LEARNING"
   ]
  },
  {
   "cell_type": "code",
   "execution_count": null,
   "metadata": {},
   "outputs": [],
   "source": [
    "\"\"\"adam = {\n",
    "    \"N\": 3,\n",
    "    \"OptValue\": 3.372311099894547,\n",
    "    \"MinDissimilarity\": 1.8,\n",
    "    \"thresholds\": [43.819599475473886,40.813192675288384,3,1.5],\n",
    "    \"weights\": (lambda l: [x/sum(l) for x in l]) ([5,1,2,3]),\n",
    "    \"finalMatchThreshold\": 13.641991683405926,\n",
    "}\"\"\"\n",
    "adam = test = {'MinDissimilarity': 2.2306793596698347,\n",
    " 'N': 2.0,\n",
    " 'OptValue': 2.962895941182219,\n",
    " 'finalMatchThreshold': 9.510819603577431,\n",
    " 'thresholds': [39.978606828772456,\n",
    "  13.72104482880197,\n",
    "  1.03034591789699,\n",
    "  2],\n",
    " 'weights': (lambda l: [x/sum(l) for x in l]) ([10,1,1,8])}\n",
    "\n",
    "class GeneticAlgo:\n",
    "    def __init__(self):\n",
    "        pass\n",
    "    \n",
    "    def mutate(self,sm):\n",
    "        for x in range(10):\n",
    "            sm=self._mutate(sm)\n",
    "        return sm\n",
    "    \n",
    "    def _mutate(self,sm):\n",
    "        import random\n",
    "        res = dict()\n",
    "        res [\"N\"]                   = max(1, sm[\"N\"] + random.choice([-1,1,0,0,0,0,0]))\n",
    "        res [\"OptValue\"]            = max(0.5, sm[\"OptValue\"] + random.uniform(-0.8,0.8))\n",
    "        res [\"MinDissimilarity\"]    = random.uniform(0,res [\"OptValue\"])\n",
    "        res [\"thresholds\"]          = [x*random.uniform(0.7,1.3) for x in sm [\"thresholds\"]]\n",
    "        res [\"weights\"]             = sm [\"weights\"]\n",
    "        res [\"finalMatchThreshold\"] = max(res [\"OptValue\"], sm [\"finalMatchThreshold\"] * random.uniform(0.8,1.2))\n",
    "        return res\n",
    "    \n",
    "    def crossbreed(self,sp1,sp2):\n",
    "        res = dict()\n",
    "        res [\"N\"]                   = (sp1[\"N\"]+sp2[\"N\"])/2\n",
    "        res [\"OptValue\"]            = (sp1[\"OptValue\"]+sp2[\"OptValue\"])/2\n",
    "        res [\"MinDissimilarity\"]    = (sp1[\"MinDissimilarity\"]+sp2[\"MinDissimilarity\"])/2\n",
    "        res [\"thresholds\"]          = [(x+y)/2 for (x,y) in zip(sp1[\"thresholds\"],sp2[\"thresholds\"])]\n",
    "        res [\"weights\"]             = sp1 [\"weights\"]\n",
    "        res [\"finalMatchThreshold\"] = (sp1[\"finalMatchThreshold\"]+sp2[\"finalMatchThreshold\"])/2\n",
    "        return res\n",
    "    \n",
    "    def of(self,sp1):\n",
    "        return -test_matcher(Matcher(**sp1))\n",
    "    \n",
    "    def random_popul(self, size):\n",
    "        m = lambda x: self.mutate(x)\n",
    "        return [m(m(m(adam))) for _ in range(size)]\n",
    "    \n",
    "    def extinct(self,popul,desired_popul):\n",
    "        tested = [(x,self.of(x)) for x in popul]\n",
    "        tested = sorted(tested, key=lambda x: x[1])\n",
    "        outcome = [x[0] for x in tested[:desired_popul]]\n",
    "        print([x[1] for x in tested[:desired_popul]])\n",
    "        return outcome\n",
    "    \n",
    "    def multiply(self,popul):\n",
    "        import itertools\n",
    "        res = []\n",
    "        for mom,dad in itertools.combinations(popul,2):\n",
    "            if mom is not dad:\n",
    "                res.append((self.mutate(self.crossbreed(mom,dad))))\n",
    "        return popul+res\n",
    "    \n",
    "    def step(self,popul):\n",
    "        res = self.extinct(popul,9)\n",
    "        return self.multiply(res)\n",
    "    \n",
    "    def peek(self,popul):\n",
    "        print([self.of(x) for x in popul])"
   ]
  },
  {
   "cell_type": "code",
   "execution_count": null,
   "metadata": {
    "collapsed": true
   },
   "outputs": [],
   "source": [
    "best_candidate = None"
   ]
  },
  {
   "cell_type": "code",
   "execution_count": 285,
   "metadata": {},
   "outputs": [
    {
     "name": "stderr",
     "output_type": "stream",
     "text": [
      "C:\\Users\\Artem\\Anaconda3\\lib\\site-packages\\ipykernel\\__main__.py:9: DeprecationWarning: generator 'test_batch' raised StopIteration\n"
     ]
    },
    {
     "name": "stdout",
     "output_type": "stream",
     "text": [
      "[-62, -61, -59, -59, -58, -57, -56, -56, -55]\n",
      "[-62, -62, -62, -61, -60, -59, -59, -59, -58]\n",
      "[-65, -62, -62, -62, -62, -61, -61, -61, -60]\n",
      "[-65, -64, -62, -62, -62, -62, -62, -62, -61]\n",
      "[-65, -64, -64, -63, -63, -62, -62, -62, -62]\n",
      "[-65, -65, -64, -64, -64, -63, -63, -63, -63]\n",
      "[-65, -65, -64, -64, -64, -64, -63, -63, -63]\n",
      "[-65, -65, -65, -64, -64, -64, -64, -64, -63]\n",
      "[-66, -65, -65, -65, -65, -64, -64, -64, -64]\n",
      "[-66, -65, -65, -65, -65, -64, -64, -64, -64]\n",
      "[-67, -66, -65, -65, -65, -65, -64, -64, -64]\n",
      "[-67, -66, -65, -65, -65, -65, -64, -64, -64]\n",
      "[-67, -66, -65, -65, -65, -65, -65, -64, -64]\n",
      "[-67, -66, -66, -65, -65, -65, -65, -65, -64]\n",
      "[-67, -66, -66, -65, -65, -65, -65, -65, -64]\n",
      "[-67, -66, -66, -66, -65, -65, -65, -65, -65]\n",
      "[-67, -66, -66, -66, -65, -65, -65, -65, -65]\n",
      "[-67, -66, -66, -66, -65, -65, -65, -65, -65]\n",
      "[-67, -66, -66, -66, -66, -65, -65, -65, -65]\n",
      "[-67, -66, -66, -66, -66, -65, -65, -65, -65]\n",
      "[-67, -66, -66, -66, -66, -65, -65, -65, -65]\n",
      "[-67, -66, -66, -66, -66, -65, -65, -65, -65]\n",
      "[-67, -66, -66, -66, -66, -65, -65, -65, -65]\n",
      "[-67, -66, -66, -66, -66, -65, -65, -65, -65]\n",
      "[-67, -66, -66, -66, -66, -65, -65, -65, -65]\n",
      "[-67, -66, -66, -66, -66, -65, -65, -65, -65]\n",
      "[-67, -66, -66, -66, -66, -65, -65, -65, -65]\n",
      "[-67, -66, -66, -66, -66, -65, -65, -65, -65]\n",
      "[-67, -66, -66, -66, -66, -65, -65, -65, -65]\n",
      "[-67, -66, -66, -66, -66, -66, -65, -65, -65]\n",
      "[-67, -66, -66, -66, -66, -66, -65, -65, -65]\n",
      "[-67, -66, -66, -66, -66, -66, -65, -65, -65]\n",
      "[-67, -66, -66, -66, -66, -66, -66, -65, -65]\n",
      "[-67, -66, -66, -66, -66, -66, -66, -66, -66]\n",
      "[-67, -66, -66, -66, -66, -66, -66, -66, -66]\n",
      "[-67, -66, -66, -66, -66, -66, -66, -66, -66]\n",
      "[-67, -66, -66, -66, -66, -66, -66, -66, -66]\n",
      "[-67, -66, -66, -66, -66, -66, -66, -66, -66]\n",
      "[-67, -66, -66, -66, -66, -66, -66, -66, -66]\n",
      "[-67, -66, -66, -66, -66, -66, -66, -66, -66]\n",
      "[-67, -66, -66, -66, -66, -66, -66, -66, -66]\n",
      "[-67, -66, -66, -66, -66, -66, -66, -66, -66]\n",
      "[-67, -66, -66, -66, -66, -66, -66, -66, -66]\n",
      "[-67, -66, -66, -66, -66, -66, -66, -66, -66]\n",
      "[-67, -66, -66, -66, -66, -66, -66, -66, -66]\n",
      "[-67, -66, -66, -66, -66, -66, -66, -66, -66]\n",
      "[-67, -66, -66, -66, -66, -66, -66, -66, -66]\n",
      "[-67, -66, -66, -66, -66, -66, -66, -66, -66]\n",
      "[-67, -66, -66, -66, -66, -66, -66, -66, -66]\n",
      "[-67, -66, -66, -66, -66, -66, -66, -66, -66]\n",
      "[-67, -66, -66, -66, -66, -66, -66, -66, -66]\n",
      "[-67, -66, -66, -66, -66, -66, -66, -66, -66]\n",
      "[-67, -66, -66, -66, -66, -66, -66, -66, -66]\n",
      "[-67, -66, -66, -66, -66, -66, -66, -66, -66]\n",
      "[-67, -66, -66, -66, -66, -66, -66, -66, -66]\n",
      "[-67, -66, -66, -66, -66, -66, -66, -66, -66]\n",
      "[-67, -66, -66, -66, -66, -66, -66, -66, -66]\n",
      "[-67, -66, -66, -66, -66, -66, -66, -66, -66]\n",
      "[-67, -66, -66, -66, -66, -66, -66, -66, -66]\n",
      "[-67, -66, -66, -66, -66, -66, -66, -66, -66]\n",
      "[-67, -66, -66, -66, -66, -66, -66, -66, -66]\n",
      "[-67, -66, -66, -66, -66, -66, -66, -66, -66]\n",
      "[-67, -66, -66, -66, -66, -66, -66, -66, -66]\n",
      "[-67, -66, -66, -66, -66, -66, -66, -66, -66]\n",
      "[-67, -66, -66, -66, -66, -66, -66, -66, -66]\n",
      "[-67, -66, -66, -66, -66, -66, -66, -66, -66]\n",
      "[-67, -66, -66, -66, -66, -66, -66, -66, -66]\n",
      "[-67, -66, -66, -66, -66, -66, -66, -66, -66]\n",
      "[-67, -66, -66, -66, -66, -66, -66, -66, -66]\n",
      "[-67, -66, -66, -66, -66, -66, -66, -66, -66]\n",
      "[-67, -66, -66, -66, -66, -66, -66, -66, -66]\n",
      "[-67, -67, -66, -66, -66, -66, -66, -66, -66]\n",
      "[-67, -67, -66, -66, -66, -66, -66, -66, -66]\n",
      "[-67, -67, -66, -66, -66, -66, -66, -66, -66]\n",
      "[-67, -67, -66, -66, -66, -66, -66, -66, -66]\n",
      "[-67, -67, -66, -66, -66, -66, -66, -66, -66]\n",
      "[-67, -67, -66, -66, -66, -66, -66, -66, -66]\n",
      "[-67, -67, -66, -66, -66, -66, -66, -66, -66]\n",
      "[-67, -67, -66, -66, -66, -66, -66, -66, -66]\n"
     ]
    },
    {
     "ename": "KeyboardInterrupt",
     "evalue": "",
     "output_type": "error",
     "traceback": [
      "\u001b[0;31m---------------------------------------------------------------------------\u001b[0m",
      "\u001b[0;31mKeyboardInterrupt\u001b[0m                         Traceback (most recent call last)",
      "\u001b[0;32m<ipython-input-285-56165c81b1ed>\u001b[0m in \u001b[0;36m<module>\u001b[0;34m()\u001b[0m\n\u001b[1;32m      2\u001b[0m \u001b[0mpopul\u001b[0m \u001b[1;33m=\u001b[0m \u001b[0malg\u001b[0m\u001b[1;33m.\u001b[0m\u001b[0mrandom_popul\u001b[0m\u001b[1;33m(\u001b[0m\u001b[1;36m45\u001b[0m\u001b[1;33m)\u001b[0m\u001b[1;33m\u001b[0m\u001b[0m\n\u001b[1;32m      3\u001b[0m \u001b[1;32mwhile\u001b[0m \u001b[1;33m(\u001b[0m\u001b[1;32mTrue\u001b[0m\u001b[1;33m)\u001b[0m\u001b[1;33m:\u001b[0m\u001b[1;33m\u001b[0m\u001b[0m\n\u001b[0;32m----> 4\u001b[0;31m     \u001b[0mpopul\u001b[0m \u001b[1;33m=\u001b[0m \u001b[0malg\u001b[0m\u001b[1;33m.\u001b[0m\u001b[0mstep\u001b[0m\u001b[1;33m(\u001b[0m\u001b[0mpopul\u001b[0m\u001b[1;33m)\u001b[0m\u001b[1;33m\u001b[0m\u001b[0m\n\u001b[0m\u001b[1;32m      5\u001b[0m     \u001b[0mbest_candidate\u001b[0m \u001b[1;33m=\u001b[0m \u001b[0mpopul\u001b[0m\u001b[1;33m[\u001b[0m\u001b[1;36m0\u001b[0m\u001b[1;33m]\u001b[0m\u001b[1;33m\u001b[0m\u001b[0m\n",
      "\u001b[0;32m<ipython-input-282-4367d90b7156>\u001b[0m in \u001b[0;36mstep\u001b[0;34m(self, popul)\u001b[0m\n\u001b[1;32m     70\u001b[0m \u001b[1;33m\u001b[0m\u001b[0m\n\u001b[1;32m     71\u001b[0m     \u001b[1;32mdef\u001b[0m \u001b[0mstep\u001b[0m\u001b[1;33m(\u001b[0m\u001b[0mself\u001b[0m\u001b[1;33m,\u001b[0m\u001b[0mpopul\u001b[0m\u001b[1;33m)\u001b[0m\u001b[1;33m:\u001b[0m\u001b[1;33m\u001b[0m\u001b[0m\n\u001b[0;32m---> 72\u001b[0;31m         \u001b[0mres\u001b[0m \u001b[1;33m=\u001b[0m \u001b[0mself\u001b[0m\u001b[1;33m.\u001b[0m\u001b[0mextinct\u001b[0m\u001b[1;33m(\u001b[0m\u001b[0mpopul\u001b[0m\u001b[1;33m,\u001b[0m\u001b[1;36m9\u001b[0m\u001b[1;33m)\u001b[0m\u001b[1;33m\u001b[0m\u001b[0m\n\u001b[0m\u001b[1;32m     73\u001b[0m         \u001b[1;32mreturn\u001b[0m \u001b[0mself\u001b[0m\u001b[1;33m.\u001b[0m\u001b[0mmultiply\u001b[0m\u001b[1;33m(\u001b[0m\u001b[0mres\u001b[0m\u001b[1;33m)\u001b[0m\u001b[1;33m\u001b[0m\u001b[0m\n\u001b[1;32m     74\u001b[0m \u001b[1;33m\u001b[0m\u001b[0m\n",
      "\u001b[0;32m<ipython-input-282-4367d90b7156>\u001b[0m in \u001b[0;36mextinct\u001b[0;34m(self, popul, desired_popul)\u001b[0m\n\u001b[1;32m     55\u001b[0m \u001b[1;33m\u001b[0m\u001b[0m\n\u001b[1;32m     56\u001b[0m     \u001b[1;32mdef\u001b[0m \u001b[0mextinct\u001b[0m\u001b[1;33m(\u001b[0m\u001b[0mself\u001b[0m\u001b[1;33m,\u001b[0m\u001b[0mpopul\u001b[0m\u001b[1;33m,\u001b[0m\u001b[0mdesired_popul\u001b[0m\u001b[1;33m)\u001b[0m\u001b[1;33m:\u001b[0m\u001b[1;33m\u001b[0m\u001b[0m\n\u001b[0;32m---> 57\u001b[0;31m         \u001b[0mtested\u001b[0m \u001b[1;33m=\u001b[0m \u001b[1;33m[\u001b[0m\u001b[1;33m(\u001b[0m\u001b[0mx\u001b[0m\u001b[1;33m,\u001b[0m\u001b[0mself\u001b[0m\u001b[1;33m.\u001b[0m\u001b[0mof\u001b[0m\u001b[1;33m(\u001b[0m\u001b[0mx\u001b[0m\u001b[1;33m)\u001b[0m\u001b[1;33m)\u001b[0m \u001b[1;32mfor\u001b[0m \u001b[0mx\u001b[0m \u001b[1;32min\u001b[0m \u001b[0mpopul\u001b[0m\u001b[1;33m]\u001b[0m\u001b[1;33m\u001b[0m\u001b[0m\n\u001b[0m\u001b[1;32m     58\u001b[0m         \u001b[0mtested\u001b[0m \u001b[1;33m=\u001b[0m \u001b[0msorted\u001b[0m\u001b[1;33m(\u001b[0m\u001b[0mtested\u001b[0m\u001b[1;33m,\u001b[0m \u001b[0mkey\u001b[0m\u001b[1;33m=\u001b[0m\u001b[1;32mlambda\u001b[0m \u001b[0mx\u001b[0m\u001b[1;33m:\u001b[0m \u001b[0mx\u001b[0m\u001b[1;33m[\u001b[0m\u001b[1;36m1\u001b[0m\u001b[1;33m]\u001b[0m\u001b[1;33m)\u001b[0m\u001b[1;33m\u001b[0m\u001b[0m\n\u001b[1;32m     59\u001b[0m         \u001b[0moutcome\u001b[0m \u001b[1;33m=\u001b[0m \u001b[1;33m[\u001b[0m\u001b[0mx\u001b[0m\u001b[1;33m[\u001b[0m\u001b[1;36m0\u001b[0m\u001b[1;33m]\u001b[0m \u001b[1;32mfor\u001b[0m \u001b[0mx\u001b[0m \u001b[1;32min\u001b[0m \u001b[0mtested\u001b[0m\u001b[1;33m[\u001b[0m\u001b[1;33m:\u001b[0m\u001b[0mdesired_popul\u001b[0m\u001b[1;33m]\u001b[0m\u001b[1;33m]\u001b[0m\u001b[1;33m\u001b[0m\u001b[0m\n",
      "\u001b[0;32m<ipython-input-282-4367d90b7156>\u001b[0m in \u001b[0;36m<listcomp>\u001b[0;34m(.0)\u001b[0m\n\u001b[1;32m     55\u001b[0m \u001b[1;33m\u001b[0m\u001b[0m\n\u001b[1;32m     56\u001b[0m     \u001b[1;32mdef\u001b[0m \u001b[0mextinct\u001b[0m\u001b[1;33m(\u001b[0m\u001b[0mself\u001b[0m\u001b[1;33m,\u001b[0m\u001b[0mpopul\u001b[0m\u001b[1;33m,\u001b[0m\u001b[0mdesired_popul\u001b[0m\u001b[1;33m)\u001b[0m\u001b[1;33m:\u001b[0m\u001b[1;33m\u001b[0m\u001b[0m\n\u001b[0;32m---> 57\u001b[0;31m         \u001b[0mtested\u001b[0m \u001b[1;33m=\u001b[0m \u001b[1;33m[\u001b[0m\u001b[1;33m(\u001b[0m\u001b[0mx\u001b[0m\u001b[1;33m,\u001b[0m\u001b[0mself\u001b[0m\u001b[1;33m.\u001b[0m\u001b[0mof\u001b[0m\u001b[1;33m(\u001b[0m\u001b[0mx\u001b[0m\u001b[1;33m)\u001b[0m\u001b[1;33m)\u001b[0m \u001b[1;32mfor\u001b[0m \u001b[0mx\u001b[0m \u001b[1;32min\u001b[0m \u001b[0mpopul\u001b[0m\u001b[1;33m]\u001b[0m\u001b[1;33m\u001b[0m\u001b[0m\n\u001b[0m\u001b[1;32m     58\u001b[0m         \u001b[0mtested\u001b[0m \u001b[1;33m=\u001b[0m \u001b[0msorted\u001b[0m\u001b[1;33m(\u001b[0m\u001b[0mtested\u001b[0m\u001b[1;33m,\u001b[0m \u001b[0mkey\u001b[0m\u001b[1;33m=\u001b[0m\u001b[1;32mlambda\u001b[0m \u001b[0mx\u001b[0m\u001b[1;33m:\u001b[0m \u001b[0mx\u001b[0m\u001b[1;33m[\u001b[0m\u001b[1;36m1\u001b[0m\u001b[1;33m]\u001b[0m\u001b[1;33m)\u001b[0m\u001b[1;33m\u001b[0m\u001b[0m\n\u001b[1;32m     59\u001b[0m         \u001b[0moutcome\u001b[0m \u001b[1;33m=\u001b[0m \u001b[1;33m[\u001b[0m\u001b[0mx\u001b[0m\u001b[1;33m[\u001b[0m\u001b[1;36m0\u001b[0m\u001b[1;33m]\u001b[0m \u001b[1;32mfor\u001b[0m \u001b[0mx\u001b[0m \u001b[1;32min\u001b[0m \u001b[0mtested\u001b[0m\u001b[1;33m[\u001b[0m\u001b[1;33m:\u001b[0m\u001b[0mdesired_popul\u001b[0m\u001b[1;33m]\u001b[0m\u001b[1;33m]\u001b[0m\u001b[1;33m\u001b[0m\u001b[0m\n",
      "\u001b[0;32m<ipython-input-282-4367d90b7156>\u001b[0m in \u001b[0;36mof\u001b[0;34m(self, sp1)\u001b[0m\n\u001b[1;32m     48\u001b[0m \u001b[1;33m\u001b[0m\u001b[0m\n\u001b[1;32m     49\u001b[0m     \u001b[1;32mdef\u001b[0m \u001b[0mof\u001b[0m\u001b[1;33m(\u001b[0m\u001b[0mself\u001b[0m\u001b[1;33m,\u001b[0m\u001b[0msp1\u001b[0m\u001b[1;33m)\u001b[0m\u001b[1;33m:\u001b[0m\u001b[1;33m\u001b[0m\u001b[0m\n\u001b[0;32m---> 50\u001b[0;31m         \u001b[1;32mreturn\u001b[0m \u001b[1;33m-\u001b[0m\u001b[0mtest_matcher\u001b[0m\u001b[1;33m(\u001b[0m\u001b[0mMatcher\u001b[0m\u001b[1;33m(\u001b[0m\u001b[1;33m**\u001b[0m\u001b[0msp1\u001b[0m\u001b[1;33m)\u001b[0m\u001b[1;33m)\u001b[0m\u001b[1;33m\u001b[0m\u001b[0m\n\u001b[0m\u001b[1;32m     51\u001b[0m \u001b[1;33m\u001b[0m\u001b[0m\n\u001b[1;32m     52\u001b[0m     \u001b[1;32mdef\u001b[0m \u001b[0mrandom_popul\u001b[0m\u001b[1;33m(\u001b[0m\u001b[0mself\u001b[0m\u001b[1;33m,\u001b[0m \u001b[0msize\u001b[0m\u001b[1;33m)\u001b[0m\u001b[1;33m:\u001b[0m\u001b[1;33m\u001b[0m\u001b[0m\n",
      "\u001b[0;32m<ipython-input-242-399cf6fbc634>\u001b[0m in \u001b[0;36mtest_matcher\u001b[0;34m(matcher, points)\u001b[0m\n\u001b[1;32m      9\u001b[0m     \u001b[1;32mfor\u001b[0m \u001b[0mx\u001b[0m\u001b[1;33m,\u001b[0m\u001b[0m_\u001b[0m \u001b[1;32min\u001b[0m \u001b[0mzip\u001b[0m\u001b[1;33m(\u001b[0m\u001b[0mtest_batch\u001b[0m\u001b[1;33m(\u001b[0m\u001b[1;33m)\u001b[0m\u001b[1;33m,\u001b[0m \u001b[0mrange\u001b[0m\u001b[1;33m(\u001b[0m\u001b[0mpoints\u001b[0m\u001b[1;33m)\u001b[0m\u001b[1;33m)\u001b[0m\u001b[1;33m:\u001b[0m\u001b[1;33m\u001b[0m\u001b[0m\n\u001b[1;32m     10\u001b[0m         \u001b[1;32mfor\u001b[0m \u001b[0mpair\u001b[0m\u001b[1;33m,\u001b[0m \u001b[0mvalue\u001b[0m \u001b[1;32min\u001b[0m \u001b[0mx\u001b[0m\u001b[1;33m:\u001b[0m\u001b[1;33m\u001b[0m\u001b[0m\n\u001b[0;32m---> 11\u001b[0;31m             \u001b[0mres\u001b[0m \u001b[1;33m=\u001b[0m \u001b[0mmatcher\u001b[0m\u001b[1;33m(\u001b[0m\u001b[1;33m*\u001b[0m\u001b[0mpair\u001b[0m\u001b[1;33m)\u001b[0m\u001b[1;33m\u001b[0m\u001b[0m\n\u001b[0m\u001b[1;32m     12\u001b[0m             \u001b[1;32mif\u001b[0m \u001b[1;33m(\u001b[0m\u001b[0mres\u001b[0m\u001b[1;33m,\u001b[0m\u001b[0mvalue\u001b[0m\u001b[1;33m)\u001b[0m \u001b[1;33m==\u001b[0m \u001b[1;33m(\u001b[0m\u001b[1;32mFalse\u001b[0m\u001b[1;33m,\u001b[0m\u001b[1;32mFalse\u001b[0m\u001b[1;33m)\u001b[0m\u001b[1;33m:\u001b[0m\u001b[1;33m\u001b[0m\u001b[0m\n\u001b[1;32m     13\u001b[0m                 \u001b[0mtn\u001b[0m\u001b[1;33m+=\u001b[0m\u001b[1;36m1\u001b[0m\u001b[1;33m\u001b[0m\u001b[0m\n",
      "\u001b[0;32m<ipython-input-91-a25e01c5f4ad>\u001b[0m in \u001b[0;36m__call__\u001b[0;34m(self, candidate, reference)\u001b[0m\n\u001b[1;32m    139\u001b[0m             \u001b[1;32mfor\u001b[0m \u001b[0mrindex\u001b[0m\u001b[1;33m,\u001b[0m \u001b[0mR\u001b[0m \u001b[1;32min\u001b[0m \u001b[0menumerate\u001b[0m\u001b[1;33m(\u001b[0m\u001b[0mreference\u001b[0m\u001b[1;33m)\u001b[0m\u001b[1;33m:\u001b[0m\u001b[1;33m\u001b[0m\u001b[0m\n\u001b[1;32m    140\u001b[0m                 \u001b[1;32mif\u001b[0m \u001b[0mrindex\u001b[0m \u001b[1;32min\u001b[0m \u001b[0mmatchedRs\u001b[0m\u001b[1;33m:\u001b[0m \u001b[1;32mcontinue\u001b[0m\u001b[1;33m\u001b[0m\u001b[0m\n\u001b[0;32m--> 141\u001b[0;31m                 \u001b[0mdissimilarity\u001b[0m \u001b[1;33m=\u001b[0m \u001b[0mself\u001b[0m\u001b[1;33m.\u001b[0m\u001b[0mmatch_minutia\u001b[0m\u001b[1;33m(\u001b[0m\u001b[0mC\u001b[0m\u001b[1;33m,\u001b[0m\u001b[0mR\u001b[0m\u001b[1;33m)\u001b[0m\u001b[1;33m\u001b[0m\u001b[0m\n\u001b[0m\u001b[1;32m    142\u001b[0m                 \u001b[1;31m#print(\"Returned: {}\".format(dissimilarity))\u001b[0m\u001b[1;33m\u001b[0m\u001b[1;33m\u001b[0m\u001b[0m\n\u001b[1;32m    143\u001b[0m                 \u001b[1;32mif\u001b[0m \u001b[1;33m(\u001b[0m\u001b[0mmostSimilarDissimilarity\u001b[0m \u001b[1;32mis\u001b[0m \u001b[1;32mNone\u001b[0m\u001b[1;33m)\u001b[0m \u001b[1;32mor\u001b[0m \u001b[1;33m(\u001b[0m\u001b[0mmostSimilarDissimilarity\u001b[0m \u001b[1;33m>\u001b[0m \u001b[0mdissimilarity\u001b[0m\u001b[1;33m)\u001b[0m\u001b[1;33m:\u001b[0m\u001b[1;33m\u001b[0m\u001b[0m\n",
      "\u001b[0;32m<ipython-input-91-a25e01c5f4ad>\u001b[0m in \u001b[0;36mmatch_minutia\u001b[0;34m(self, min1, min2)\u001b[0m\n\u001b[1;32m     96\u001b[0m             \u001b[1;32mfor\u001b[0m \u001b[0mjindex\u001b[0m\u001b[1;33m,\u001b[0m \u001b[0mJ\u001b[0m \u001b[1;32min\u001b[0m \u001b[0menumerate\u001b[0m\u001b[1;33m(\u001b[0m\u001b[0mmin2\u001b[0m\u001b[1;33m[\u001b[0m\u001b[1;34m\"neighbours\"\u001b[0m\u001b[1;33m]\u001b[0m\u001b[1;33m)\u001b[0m\u001b[1;33m:\u001b[0m\u001b[1;33m\u001b[0m\u001b[0m\n\u001b[1;32m     97\u001b[0m                 \u001b[1;32mif\u001b[0m \u001b[0mjindex\u001b[0m \u001b[1;32min\u001b[0m \u001b[0mmatchedJs\u001b[0m\u001b[1;33m:\u001b[0m \u001b[1;32mcontinue\u001b[0m\u001b[1;33m\u001b[0m\u001b[0m\n\u001b[0;32m---> 98\u001b[0;31m                 \u001b[0mdissimilarity\u001b[0m \u001b[1;33m=\u001b[0m \u001b[0mself\u001b[0m\u001b[1;33m.\u001b[0m\u001b[0mmatch_neighbours\u001b[0m\u001b[1;33m(\u001b[0m\u001b[0mmin1\u001b[0m\u001b[1;33m,\u001b[0m\u001b[0mmin2\u001b[0m\u001b[1;33m,\u001b[0m\u001b[0mI\u001b[0m\u001b[1;33m,\u001b[0m\u001b[0mJ\u001b[0m\u001b[1;33m)\u001b[0m\u001b[1;33m\u001b[0m\u001b[0m\n\u001b[0m\u001b[1;32m     99\u001b[0m                 \u001b[1;32mif\u001b[0m \u001b[1;33m(\u001b[0m\u001b[0mdissimilarity\u001b[0m \u001b[1;32mis\u001b[0m \u001b[1;32mFalse\u001b[0m\u001b[1;33m)\u001b[0m\u001b[1;33m:\u001b[0m\u001b[1;33m\u001b[0m\u001b[0m\n\u001b[1;32m    100\u001b[0m                     \u001b[1;32mcontinue\u001b[0m\u001b[1;33m\u001b[0m\u001b[0m\n",
      "\u001b[0;32m<ipython-input-91-a25e01c5f4ad>\u001b[0m in \u001b[0;36mmatch_neighbours\u001b[0;34m(self, p1, p2, n1, n2)\u001b[0m\n\u001b[1;32m     62\u001b[0m         \u001b[0mEd2\u001b[0m \u001b[1;33m=\u001b[0m \u001b[0mself\u001b[0m\u001b[1;33m.\u001b[0m\u001b[0meuclidian_distance\u001b[0m\u001b[1;33m(\u001b[0m\u001b[0mp2\u001b[0m\u001b[1;33m,\u001b[0m\u001b[0mn2\u001b[0m\u001b[1;33m)\u001b[0m\u001b[1;33m\u001b[0m\u001b[0m\n\u001b[1;32m     63\u001b[0m         \u001b[0mDra1\u001b[0m\u001b[1;33m=\u001b[0m \u001b[0mself\u001b[0m\u001b[1;33m.\u001b[0m\u001b[0mdistance_relative_angle\u001b[0m\u001b[1;33m(\u001b[0m\u001b[0mp1\u001b[0m\u001b[1;33m,\u001b[0m\u001b[0mn1\u001b[0m\u001b[1;33m)\u001b[0m\u001b[1;33m\u001b[0m\u001b[0m\n\u001b[0;32m---> 64\u001b[0;31m         \u001b[0mDra2\u001b[0m\u001b[1;33m=\u001b[0m \u001b[0mself\u001b[0m\u001b[1;33m.\u001b[0m\u001b[0mdistance_relative_angle\u001b[0m\u001b[1;33m(\u001b[0m\u001b[0mp2\u001b[0m\u001b[1;33m,\u001b[0m\u001b[0mn2\u001b[0m\u001b[1;33m)\u001b[0m\u001b[1;33m\u001b[0m\u001b[0m\n\u001b[0m\u001b[1;32m     65\u001b[0m         \u001b[0mOra1\u001b[0m\u001b[1;33m=\u001b[0m \u001b[0mself\u001b[0m\u001b[1;33m.\u001b[0m\u001b[0morientation_relative_angle\u001b[0m\u001b[1;33m(\u001b[0m\u001b[0mp1\u001b[0m\u001b[1;33m,\u001b[0m\u001b[0mn1\u001b[0m\u001b[1;33m)\u001b[0m\u001b[1;33m\u001b[0m\u001b[0m\n\u001b[1;32m     66\u001b[0m         \u001b[0mOra2\u001b[0m\u001b[1;33m=\u001b[0m \u001b[0mself\u001b[0m\u001b[1;33m.\u001b[0m\u001b[0morientation_relative_angle\u001b[0m\u001b[1;33m(\u001b[0m\u001b[0mp2\u001b[0m\u001b[1;33m,\u001b[0m\u001b[0mn2\u001b[0m\u001b[1;33m)\u001b[0m\u001b[1;33m\u001b[0m\u001b[0m\n",
      "\u001b[0;32m<ipython-input-91-a25e01c5f4ad>\u001b[0m in \u001b[0;36mdistance_relative_angle\u001b[0;34m(self, P, N)\u001b[0m\n\u001b[1;32m     31\u001b[0m     \u001b[1;32mdef\u001b[0m \u001b[0mdistance_relative_angle\u001b[0m\u001b[1;33m(\u001b[0m\u001b[0mself\u001b[0m\u001b[1;33m,\u001b[0m \u001b[0mP\u001b[0m\u001b[1;33m,\u001b[0m\u001b[0mN\u001b[0m\u001b[1;33m)\u001b[0m\u001b[1;33m:\u001b[0m\u001b[1;33m\u001b[0m\u001b[0m\n\u001b[1;32m     32\u001b[0m         \u001b[0mup\u001b[0m \u001b[1;33m=\u001b[0m \u001b[1;33m(\u001b[0m\u001b[1;36m0\u001b[0m\u001b[1;33m,\u001b[0m\u001b[1;33m-\u001b[0m\u001b[1;36m1\u001b[0m\u001b[1;33m)\u001b[0m\u001b[1;33m\u001b[0m\u001b[0m\n\u001b[0;32m---> 33\u001b[0;31m         \u001b[0mPdir\u001b[0m \u001b[1;33m=\u001b[0m \u001b[0mself\u001b[0m\u001b[1;33m.\u001b[0m\u001b[0mrotate\u001b[0m\u001b[1;33m(\u001b[0m\u001b[0mup\u001b[0m\u001b[1;33m,\u001b[0m\u001b[0mP\u001b[0m\u001b[1;33m[\u001b[0m\u001b[1;34m\"dir\"\u001b[0m\u001b[1;33m]\u001b[0m\u001b[1;33m)\u001b[0m\u001b[1;33m\u001b[0m\u001b[0m\n\u001b[0m\u001b[1;32m     34\u001b[0m         \u001b[0mD\u001b[0m \u001b[1;33m=\u001b[0m \u001b[0mself\u001b[0m\u001b[1;33m.\u001b[0m\u001b[0mdiff\u001b[0m\u001b[1;33m(\u001b[0m\u001b[0mP\u001b[0m\u001b[1;33m,\u001b[0m\u001b[0mN\u001b[0m\u001b[1;33m)\u001b[0m\u001b[1;33m\u001b[0m\u001b[0m\n\u001b[1;32m     35\u001b[0m         \u001b[1;32mreturn\u001b[0m \u001b[0mself\u001b[0m\u001b[1;33m.\u001b[0m\u001b[0mangle\u001b[0m\u001b[1;33m(\u001b[0m\u001b[1;33m(\u001b[0m\u001b[1;33m-\u001b[0m\u001b[0mD\u001b[0m\u001b[1;33m[\u001b[0m\u001b[1;36m0\u001b[0m\u001b[1;33m]\u001b[0m\u001b[1;33m,\u001b[0m\u001b[1;33m-\u001b[0m\u001b[0mD\u001b[0m\u001b[1;33m[\u001b[0m\u001b[1;36m1\u001b[0m\u001b[1;33m]\u001b[0m\u001b[1;33m)\u001b[0m\u001b[1;33m,\u001b[0m \u001b[0mPdir\u001b[0m\u001b[1;33m)\u001b[0m\u001b[1;33m\u001b[0m\u001b[0m\n",
      "\u001b[0;32m<ipython-input-91-a25e01c5f4ad>\u001b[0m in \u001b[0;36mrotate\u001b[0;34m(self, vector, steps)\u001b[0m\n\u001b[1;32m     22\u001b[0m     \u001b[1;32mdef\u001b[0m \u001b[0mrotate\u001b[0m\u001b[1;33m(\u001b[0m\u001b[0mself\u001b[0m\u001b[1;33m,\u001b[0m \u001b[0mvector\u001b[0m\u001b[1;33m,\u001b[0m \u001b[0msteps\u001b[0m\u001b[1;33m)\u001b[0m\u001b[1;33m:\u001b[0m \u001b[1;31m# 32 steps in 360 degrees\u001b[0m\u001b[1;33m\u001b[0m\u001b[0m\n\u001b[1;32m     23\u001b[0m         \u001b[0mx\u001b[0m \u001b[1;33m=\u001b[0m \u001b[0mvector\u001b[0m\u001b[1;33m[\u001b[0m\u001b[1;36m0\u001b[0m\u001b[1;33m]\u001b[0m\u001b[1;33m*\u001b[0m\u001b[0mmath\u001b[0m\u001b[1;33m.\u001b[0m\u001b[0mcos\u001b[0m\u001b[1;33m(\u001b[0m\u001b[0msteps\u001b[0m\u001b[1;33m*\u001b[0m\u001b[0mmath\u001b[0m\u001b[1;33m.\u001b[0m\u001b[0mpi\u001b[0m \u001b[1;33m/\u001b[0m \u001b[1;36m16\u001b[0m\u001b[1;33m)\u001b[0m \u001b[1;33m-\u001b[0m \u001b[0mvector\u001b[0m\u001b[1;33m[\u001b[0m\u001b[1;36m1\u001b[0m\u001b[1;33m]\u001b[0m\u001b[1;33m*\u001b[0m\u001b[0mmath\u001b[0m\u001b[1;33m.\u001b[0m\u001b[0msin\u001b[0m\u001b[1;33m(\u001b[0m\u001b[0msteps\u001b[0m\u001b[1;33m*\u001b[0m\u001b[0mmath\u001b[0m\u001b[1;33m.\u001b[0m\u001b[0mpi\u001b[0m \u001b[1;33m/\u001b[0m \u001b[1;36m16\u001b[0m\u001b[1;33m)\u001b[0m\u001b[1;33m\u001b[0m\u001b[0m\n\u001b[0;32m---> 24\u001b[0;31m         \u001b[0my\u001b[0m \u001b[1;33m=\u001b[0m \u001b[0mvector\u001b[0m\u001b[1;33m[\u001b[0m\u001b[1;36m0\u001b[0m\u001b[1;33m]\u001b[0m\u001b[1;33m*\u001b[0m\u001b[0mmath\u001b[0m\u001b[1;33m.\u001b[0m\u001b[0msin\u001b[0m\u001b[1;33m(\u001b[0m\u001b[0msteps\u001b[0m\u001b[1;33m*\u001b[0m\u001b[0mmath\u001b[0m\u001b[1;33m.\u001b[0m\u001b[0mpi\u001b[0m \u001b[1;33m/\u001b[0m \u001b[1;36m16\u001b[0m\u001b[1;33m)\u001b[0m \u001b[1;33m+\u001b[0m \u001b[0mvector\u001b[0m\u001b[1;33m[\u001b[0m\u001b[1;36m1\u001b[0m\u001b[1;33m]\u001b[0m\u001b[1;33m*\u001b[0m\u001b[0mmath\u001b[0m\u001b[1;33m.\u001b[0m\u001b[0mcos\u001b[0m\u001b[1;33m(\u001b[0m\u001b[0msteps\u001b[0m\u001b[1;33m*\u001b[0m\u001b[0mmath\u001b[0m\u001b[1;33m.\u001b[0m\u001b[0mpi\u001b[0m \u001b[1;33m/\u001b[0m \u001b[1;36m16\u001b[0m\u001b[1;33m)\u001b[0m\u001b[1;33m\u001b[0m\u001b[0m\n\u001b[0m\u001b[1;32m     25\u001b[0m         \u001b[1;32mreturn\u001b[0m \u001b[1;33m(\u001b[0m\u001b[0mx\u001b[0m\u001b[1;33m,\u001b[0m\u001b[0my\u001b[0m\u001b[1;33m)\u001b[0m\u001b[1;33m\u001b[0m\u001b[0m\n\u001b[1;32m     26\u001b[0m \u001b[1;33m\u001b[0m\u001b[0m\n",
      "\u001b[0;31mKeyboardInterrupt\u001b[0m: "
     ]
    }
   ],
   "source": [
    "alg = GeneticAlgo()\n",
    "popul = alg.random_popul(45)\n",
    "while (True):\n",
    "    popul = alg.step(popul)\n",
    "    best_candidate = popul[0]"
   ]
  },
  {
   "cell_type": "code",
   "execution_count": 286,
   "metadata": {},
   "outputs": [
    {
     "data": {
      "text/plain": [
       "{'MinDissimilarity': 2.4599465746969438,\n",
       " 'N': 2.0,\n",
       " 'OptValue': 3.3156531851467816,\n",
       " 'finalMatchThreshold': 9.44038096176614,\n",
       " 'thresholds': [41.8639460239329,\n",
       "  32.348302153124486,\n",
       "  0.8611537786509325,\n",
       "  1.1125524913887437],\n",
       " 'weights': [0.5, 0.05, 0.05, 0.4]}"
      ]
     },
     "execution_count": 286,
     "metadata": {},
     "output_type": "execute_result"
    }
   ],
   "source": [
    "best_candidate"
   ]
  },
  {
   "cell_type": "code",
   "execution_count": 287,
   "metadata": {},
   "outputs": [
    {
     "data": {
      "text/plain": [
       "(99406, 128112, 69630, 98336)"
      ]
     },
     "execution_count": 287,
     "metadata": {},
     "output_type": "execute_result"
    }
   ],
   "source": [
    "tp,tn,fp,fn"
   ]
  },
  {
   "cell_type": "code",
   "execution_count": 279,
   "metadata": {},
   "outputs": [],
   "source": [
    "test = {'MinDissimilarity': 2.2306793596698347,\n",
    " 'N': 2.0,\n",
    " 'OptValue': 2.962895941182219,\n",
    " 'finalMatchThreshold': 9.510819603577431,\n",
    " 'thresholds': [39.978606828772456,\n",
    "  13.72104482880197,\n",
    "  1.03034591789699,\n",
    "  2],\n",
    " 'weights': (lambda l: [x/sum(l) for x in l]) ([10,1,1,8])}"
   ]
  },
  {
   "cell_type": "code",
   "execution_count": 280,
   "metadata": {},
   "outputs": [
    {
     "name": "stderr",
     "output_type": "stream",
     "text": [
      "C:\\Users\\Artem\\Anaconda3\\lib\\site-packages\\ipykernel\\__main__.py:9: DeprecationWarning: generator 'test_batch' raised StopIteration\n"
     ]
    },
    {
     "data": {
      "text/plain": [
       "-67"
      ]
     },
     "execution_count": 280,
     "metadata": {},
     "output_type": "execute_result"
    }
   ],
   "source": [
    "GeneticAlgo().of(test)"
   ]
  },
  {
   "cell_type": "code",
   "execution_count": 288,
   "metadata": {},
   "outputs": [
    {
     "data": {
      "text/plain": [
       "(99406, 128112, 69630, 98336)"
      ]
     },
     "execution_count": 288,
     "metadata": {},
     "output_type": "execute_result"
    }
   ],
   "source": [
    "tp,tn,fp,fn"
   ]
  },
  {
   "cell_type": "code",
   "execution_count": 289,
   "metadata": {
    "collapsed": true
   },
   "outputs": [],
   "source": [
    "tn = 0\n",
    "tp = 0\n",
    "fn = 0\n",
    "fp = 0"
   ]
  },
  {
   "cell_type": "code",
   "execution_count": 28,
   "metadata": {},
   "outputs": [
    {
     "data": {
      "image/png": "[encoded data removed]",
      "text/plain": [
       "<matplotlib.figure.Figure at 0x7b41666dd8>"
      ]
     },
     "metadata": {},
     "output_type": "display_data"
    }
   ],
   "source": [
    "import matplotlib.pyplot as plot\n",
    "\n",
    "plot.scatter([x[0] for x in points], [x[1] for x in points])\n",
    "plot.ylabel('FNR')\n",
    "plot.xlabel('FPR')\n",
    "plot.show()"
   ]
  },
  {
   "cell_type": "code",
   "execution_count": 26,
   "metadata": {},
   "outputs": [
    {
     "data": {
      "image/png": "[encoded data removed]",
      "text/plain": [
       "<matplotlib.figure.Figure at 0x7b3f63dfd0>"
      ]
     },
     "metadata": {},
     "output_type": "display_data"
    }
   ],
   "source": []
  },
  {
   "cell_type": "code",
   "execution_count": 52,
   "metadata": {},
   "outputs": [
    {
     "data": {
      "image/png": "[encoded data removed]",
      "text/plain": [
       "<matplotlib.figure.Figure at 0x7b417e0a58>"
      ]
     },
     "metadata": {},
     "output_type": "display_data"
    }
   ],
   "source": [
    "import matplotlib.pyplot as plot\n",
    "\n",
    "# positive graph\n",
    "avgs_pos = [sum(x)/len(x) for x in positive_matches]\n",
    "avgs_neg = [sum(x)/len(x) for x in negative_matches]\n",
    "plot.scatter(avgs_pos, avgs_neg)\n",
    "plot.ylabel('Positive response')\n",
    "plot.xlabel('Negative response')\n",
    "plot.show()"
   ]
  },
  {
   "cell_type": "code",
   "execution_count": null,
   "metadata": {
    "collapsed": true
   },
   "outputs": [],
   "source": []
  }
 ],
 "metadata": {
  "anaconda-cloud": {},
  "kernelspec": {
   "display_name": "Python 3",
   "language": "python",
   "name": "python3"
  },
  "language_info": {
   "codemirror_mode": {
    "name": "ipython",
    "version": 3
   },
   "file_extension": ".py",
   "mimetype": "text/x-python",
   "name": "python",
   "nbconvert_exporter": "python",
   "pygments_lexer": "ipython3",
   "version": "3.6.1"
  }
 },
 "nbformat": 4,
 "nbformat_minor": 1
}
