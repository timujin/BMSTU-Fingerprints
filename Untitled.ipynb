{
 "cells": [
  {
   "cell_type": "code",
   "execution_count": 29,
   "metadata": {
    "collapsed": false
   },
   "outputs": [],
   "source": [
    "import re\n",
    "minutia_regexp = re.compile(\n",
    "    \"^(?P<id>[0-9]+):\"              +   # the integer identifier of the detected minutia\n",
    "     \"(?P<mx>[0-9]+),\"              +   # the x-pixel coordinate of the detected minutia\n",
    "     \"(?P<my>[0-9]+):\"              +   # the y-pixel coordinate of the detected minutia\n",
    "     \"(?P<dir>[0-9]+):\"             +   # the direction of the detected minutia (0:-31) == (0:-360) clockwise\n",
    "     \"(?P<rel>(0\\.[0-9]+)|(1\\.0)):\" +   # the reliability measure assigned to the detected minutia\n",
    "     \"(?P<typ>(RIG)|(BIF)):\"        +   # the type of the detected minutia\n",
    "     \"(?P<ftyp>(APP)|(DIS)):\"       +   # the type of feature detected\n",
    "     \"(?P<fn>[0-9]+)\"               +   # the integer identifier of the type of feature detected\n",
    "     \"(:(?P<neighbours>([0-9]+,[0-9]+;[0-9]+:?)*))?$\") # neighbouring minutia\n",
    "\n",
    "neighbour_regexp = re.compile(\n",
    "     \"^(?P<mx>[0-9]+),\"             +  # the x-pixel coordinate of the neighbouring minutia\n",
    "      \"(?P<my>[0-9]+);\"             +  # the y-pixel coordinate of the neighbouring minutia\n",
    "      \"(?P<rc>[0-9]+)$\")               # the ridge count calculated between the detected minutia and its first neighbor\n",
    "\n",
    "def parseMinutia(string):\n",
    "    string = ''.join(list(x for x in string if x != ' '))\n",
    "    m = re.match(minutia_regexp, string)\n",
    "    if (m is None):\n",
    "        raise Exception(\"Does not parse\")\n",
    "    res = {key:m.group(key) for key in [\"id\",\"mx\",\"my\",\"dir\",\"rel\",\"typ\",\"ftyp\",\"fn\"]}\n",
    "    res[\"neighbours\"] = []\n",
    "    neighbours = m.group(\"neighbours\")\n",
    "    if neighbours:\n",
    "        neighbours = neighbours.split(\":\")\n",
    "        for neighbour in neighbours:\n",
    "            ren = re.match(neighbour_regexp, neighbour)\n",
    "            res[\"neighbours\"].append({key:ren.group(key) for key in [\"mx\",\"my\",\"rc\"]})\n",
    "    return res\n",
    "    \n",
    "def parseFilename(filename):\n",
    "    with open(\"data/\"+filename) as f:\n",
    "        return [parseMinutia(x) for x in list(f)[4:]]\n",
    "        "
   ]
  },
  {
   "cell_type": "code",
   "execution_count": 30,
   "metadata": {
    "collapsed": false
   },
   "outputs": [],
   "source": [
    "f0001_01 = parseFilename(\"f0001_01.png.min\")\n",
    "f0002_05 = parseFilename(\"f0002_05.png.min\")\n",
    "s0001_01 = parseFilename(\"s0001_01.png.min\")"
   ]
  },
  {
   "cell_type": "markdown",
   "metadata": {},
   "source": [
    "![algo1](algo1.png)\n",
    "![algo2](algo2.png)"
   ]
  },
  {
   "cell_type": "code",
   "execution_count": null,
   "metadata": {
    "collapsed": true
   },
   "outputs": [],
   "source": [
    "def match(template, candidate):\n",
    "    pass"
   ]
  }
 ],
 "metadata": {
  "anaconda-cloud": {},
  "kernelspec": {
   "display_name": "Python [conda root]",
   "language": "python",
   "name": "conda-root-py"
  },
  "language_info": {
   "codemirror_mode": {
    "name": "ipython",
    "version": 3
   },
   "file_extension": ".py",
   "mimetype": "text/x-python",
   "name": "python",
   "nbconvert_exporter": "python",
   "pygments_lexer": "ipython3",
   "version": "3.5.2"
  }
 },
 "nbformat": 4,
 "nbformat_minor": 1
}
