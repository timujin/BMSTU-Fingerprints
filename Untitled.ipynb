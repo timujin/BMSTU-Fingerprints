{
 "cells": [
  {
   "cell_type": "code",
   "execution_count": 13,
   "metadata": {
    "collapsed": false
   },
   "outputs": [],
   "source": [
    "def comp(f,g):\n",
    "    return lambda *x: f(g(*x))\n",
    "\n",
    "import re, math\n",
    "minutia_regexp = re.compile(\n",
    "    \"^(?P<id>[0-9]+):\"              +   # the integer identifier of the detected minutia\n",
    "     \"(?P<mx>[0-9]+),\"              +   # the x-pixel coordinate of the detected minutia\n",
    "     \"(?P<my>[0-9]+):\"              +   # the y-pixel coordinate of the detected minutia\n",
    "     \"(?P<dir>[0-9]+):\"             +   # the direction of the detected minutia (0:-31) == (0:-360) clockwise\n",
    "     \"(?P<rel>(0\\.[0-9]+)|(1\\.0)):\" +   # the reliability measure assigned to the detected minutia\n",
    "     \"(?P<typ>(RIG)|(BIF)):\"        +   # the type of the detected minutia\n",
    "     \"(?P<ftyp>(APP)|(DIS)):\"       +   # the type of feature detected\n",
    "     \"(?P<fn>[0-9]+)\"               +   # the integer identifier of the type of feature detected\n",
    "     \"(:(?P<neighbours>([0-9]+,[0-9]+;[0-9]+:?)*))?$\") # neighbouring minutia\n",
    "\n",
    "neighbour_regexp = re.compile(\n",
    "     \"^(?P<mx>[0-9]+),\"             +  # the x-pixel coordinate of the neighbouring minutia\n",
    "      \"(?P<my>[0-9]+);\"             +  # the y-pixel coordinate of the neighbouring minutia\n",
    "      \"(?P<rc>[0-9]+)$\")               # the ridge count calculated between the detected minutia and its first neighbor\n",
    "\n",
    "def toNumberIfPossible(string):\n",
    "    try:\n",
    "        return int(string)\n",
    "    except ValueError:\n",
    "        try:\n",
    "            return float(string)\n",
    "        except ValueError:\n",
    "            return string\n",
    "\n",
    "def parseMinutia(string):\n",
    "    string = ''.join(list(x for x in string if x != ' '))\n",
    "    m = re.match(minutia_regexp, string)\n",
    "    if (m is None):\n",
    "        raise Exception(\"Does not parse\")\n",
    "    res = {key:toNumberIfPossible(m.group(key)) for key in [\"id\",\"mx\",\"my\",\"dir\",\"rel\",\"typ\",\"ftyp\",\"fn\"]}\n",
    "    res[\"neighbours\"] = []\n",
    "    neighbours = m.group(\"neighbours\")\n",
    "    if neighbours:\n",
    "        neighbours = neighbours.split(\":\")\n",
    "        for neighbour in neighbours:\n",
    "            ren = re.match(neighbour_regexp, neighbour)\n",
    "            res[\"neighbours\"].append({key:toNumberIfPossible(ren.group(key)) for key in [\"mx\",\"my\",\"rc\"]})\n",
    "    return res\n",
    "    \n",
    "def parseFilename(filename):\n",
    "    res = None\n",
    "    with open(filename) as f:\n",
    "        res = {(mx,my): m \n",
    "               for (mx,my,m) \n",
    "               in map(\n",
    "                    comp(lambda x: (x[\"mx\"], x[\"my\"], x), parseMinutia),\n",
    "                    list(f)[4:]\n",
    "                )\n",
    "        }\n",
    "    for minutia in res.values():\n",
    "        for n in minutia[\"neighbours\"]:\n",
    "            n[\"dir\"] = res[(n[\"mx\"],n[\"my\"])][\"dir\"]\n",
    "    return list(res.values())\n",
    "    \n",
    "        "
   ]
  },
  {
   "cell_type": "code",
   "execution_count": 5,
   "metadata": {
    "collapsed": false
   },
   "outputs": [],
   "source": [
    "def rotate(vector, steps): # 32 steps in 360 degrees\n",
    "    x = vector[0]*math.cos(steps*math.pi / 16) - vector[1]*math.sin(steps*math.pi / 16)\n",
    "    y = vector[0]*math.sin(steps*math.pi / 16) + vector[1]*math.cos(steps*math.pi / 16)\n",
    "    return (x,y)\n",
    "\n",
    "def length(vector):\n",
    "    return (vector[0]**2+vector[1]**2)**0.5\n",
    "\n",
    "def angle(vec1, vec2):\n",
    "    dotproduct = vec1[0]*vec2[0] + vec1[1]*vec2[1]\n",
    "    return dotproduct / (length(vec1)*length(vec2))"
   ]
  },
  {
   "cell_type": "code",
   "execution_count": 6,
   "metadata": {
    "collapsed": false
   },
   "outputs": [],
   "source": [
    "def fingers():\n",
    "    dir = r\"mindtct/shelved_pairs_of_fingers/\"\n",
    "    import os, shelve\n",
    "    files = [x for x in os.listdir(dir) if x.endswith(\".dat\")]\n",
    "    for file in files:\n",
    "        try:\n",
    "            d = shelve.open(dir+file[:-len(\".dat\")], flag='r')\n",
    "            yield d[\"finger\"]\n",
    "            d.close()\n",
    "        except:\n",
    "            continue"
   ]
  },
  {
   "cell_type": "code",
   "execution_count": 7,
   "metadata": {
    "collapsed": false
   },
   "outputs": [
    {
     "name": "stderr",
     "output_type": "stream",
     "text": [
      "Exception ignored in: <generator object fingers at 0x000000EE1CC1C8E0>\n",
      "RuntimeError: generator ignored GeneratorExit\n"
     ]
    }
   ],
   "source": [
    "cached_fingers = []\n",
    "for finger, _ in zip(fingers(), range(100)):\n",
    "    cached_fingers.append(finger)"
   ]
  },
  {
   "cell_type": "code",
   "execution_count": 8,
   "metadata": {
    "collapsed": false
   },
   "outputs": [],
   "source": [
    "class Matcher:\n",
    "    NotSimilarAtAll = 10**10\n",
    "    \n",
    "    def __init__(self, **params):\n",
    "        self.N = params[\"N\"]\n",
    "        self.OptValue = params[\"OptValue\"]\n",
    "        self.MinDissimilarity = params[\"MinDissimilarity\"]  # MUST be stricter than OptValue\n",
    "        self.thresholds = params[\"thresholds\"]\n",
    "        self.weights = params[\"weights\"]\n",
    "        self.finalMatchThreshold= params[\"finalMatchThreshold\"]\n",
    "        self.minutiaProcessed = 5\n",
    "        \n",
    "    def angle(self, vec1, vec2):\n",
    "        from math import atan2, pi\n",
    "        dotproduct = vec1[0]*vec2[0] + vec1[1]*vec2[1]\n",
    "        determinant= vec1[0]*vec2[1] + vec1[1]*vec2[0]\n",
    "        return atan2(determinant, dotproduct) + pi\n",
    "    \n",
    "    def diff(self, P, N):\n",
    "        return ((P[\"mx\"]-N[\"mx\"]), (P[\"my\"]-N[\"my\"]))\n",
    "            \n",
    "    def rotate(self, vector, steps): # 32 steps in 360 degrees\n",
    "        x = vector[0]*math.cos(steps*math.pi / 16) - vector[1]*math.sin(steps*math.pi / 16)\n",
    "        y = vector[0]*math.sin(steps*math.pi / 16) + vector[1]*math.cos(steps*math.pi / 16)\n",
    "        return (x,y)\n",
    "       \n",
    "    def euclidian_distance(self, P,N):\n",
    "        D  =  self.diff(P,N)\n",
    "        return (D[0]**2+D[1]**2)**0.5\n",
    "    \n",
    "    def distance_relative_angle(self, P,N):\n",
    "        up = (0,-1)\n",
    "        Pdir = self.rotate(up,P[\"dir\"])\n",
    "        D = self.diff(P,N)\n",
    "        return self.angle((-D[0],-D[1]), Pdir)\n",
    "    \n",
    "    def orientation_relative_angle(self, P,N):\n",
    "        up = (0,-1)\n",
    "        Pdir = self.rotate(up, P[\"dir\"])\n",
    "        Ndir = self.rotate(up, N[\"dir\"])\n",
    "        return self.angle(Pdir, Ndir) # maybe inaccurate\n",
    "        \n",
    "    def ridge_count(self, P,N):\n",
    "        return N[\"rc\"]\n",
    "    \n",
    "    def bounding_box(self,diffs):\n",
    "        if not all(\n",
    "            x < y for (x,y) in zip(diffs, self.thresholds)\n",
    "        ):\n",
    "            #print (\"Out of the box:\", diffs)\n",
    "            return False\n",
    "        return (x / y for (x,y) in zip(diffs, self.thresholds))\n",
    "        \n",
    "    def match_neighbours(self,p1,p2,n1,n2):\n",
    "        \"\"\"print(\"Parent1: {}\\n Neighbour1: {}\\n Parent2: {}\\n Neighbour2: {}\". format(\n",
    "            str({x:y for (x,y) in p1.items() if x!=\"neighbours\"}),\n",
    "            str({x:y for (x,y) in n1.items() if x!=\"neighbours\"}),\n",
    "            str({x:y for (x,y) in p2.items() if x!=\"neighbours\"}),\n",
    "            str({x:y for (x,y) in n2.items() if x!=\"neighbours\"}),\n",
    "        ))\"\"\"\n",
    "        Ed1 = self.euclidian_distance(p1,n1)\n",
    "        Ed2 = self.euclidian_distance(p2,n2)\n",
    "        Dra1= self.distance_relative_angle(p1,n1)\n",
    "        Dra2= self.distance_relative_angle(p2,n2)\n",
    "        Ora1= self.orientation_relative_angle(p1,n1)\n",
    "        Ora2= self.orientation_relative_angle(p2,n2)\n",
    "        Rc1 = self.ridge_count(p1,n1)\n",
    "        Rc2 = self.ridge_count(p2,n2)\n",
    "        \n",
    "        EdDiff = abs(Ed2-Ed1)\n",
    "        DraDiff= abs(Dra2-Dra1)\n",
    "        OraDiff= abs(Ora2-Ora1)\n",
    "        RcDiff = abs(Rc2 - Rc1)\n",
    "        \n",
    "        diffs = (EdDiff, DraDiff, OraDiff, RcDiff)\n",
    "        \n",
    "        normalized = self.bounding_box(diffs)\n",
    "        if not normalized:\n",
    "            return Matcher.NotSimilarAtAll\n",
    "        \n",
    "        weighted_diffs = list(x*y for (x,y) in zip(normalized, self.weights))\n",
    "        #print(\"Weighted\", weighted_diffs)\n",
    "        \n",
    "        return sum(weighted_diffs)\n",
    "        \n",
    "    def match_minutia(self,min1, min2):\n",
    "        #print(\"1: {} neighs, 2: {} neighs\".format(len(min1[\"neighbours\"]),len(min2[\"neighbours\"])))\n",
    "        matchedIs = []\n",
    "        matchedJs = []\n",
    "        totalDissimilarity = 0\n",
    "        neighboursMatched = 0\n",
    "        for iindex, I in enumerate(min1[\"neighbours\"]):\n",
    "            if iindex in matchedIs: continue\n",
    "            mostSimilarIndex = None\n",
    "            mostSimilarDissimilarity = None\n",
    "            for jindex, J in enumerate(min2[\"neighbours\"]):\n",
    "                if jindex in matchedJs: continue\n",
    "                dissimilarity = self.match_neighbours(min1,min2,I,J)\n",
    "                if (dissimilarity is False):\n",
    "                    continue\n",
    "                if (mostSimilarDissimilarity is None) or (mostSimilarDissimilarity > dissimilarity):\n",
    "                    mostSimilarIndex = jindex\n",
    "                    mostSimilarDissimilarity = dissimilarity\n",
    "            if mostSimilarDissimilarity is Matcher.NotSimilarAtAll:\n",
    "                return Matcher.NotSimilarAtAll\n",
    "            if (mostSimilarIndex is None):\n",
    "                continue\n",
    "            matchedIs.append(iindex)\n",
    "            matchedJs.append(mostSimilarIndex)\n",
    "            totalDissimilarity += (mostSimilarDissimilarity)\n",
    "            neighboursMatched += 1\n",
    "            #print (\"Matched {} with {}\".format(iindex, mostSimilarIndex))\n",
    "            if (neighboursMatched >= self.N):\n",
    "                return totalDissimilarity / neighboursMatched\n",
    "        return Matcher.NotSimilarAtAll\n",
    "                \n",
    "    \n",
    "    def filter_minutia(self,finger):\n",
    "        import itertools\n",
    "        return list(itertools.islice(sorted(finger, key=lambda x: -x[\"rel\"]) ,self.minutiaProcessed))\n",
    "    \n",
    "    def stoppingConditions(self,MatchCost,LastDissimilarity,TotalMatched):\n",
    "        return any([\n",
    "            MatchCost / TotalMatched < self.OptValue,\n",
    "            LastDissimilarity        < self.MinDissimilarity,\n",
    "        ])\n",
    "        \n",
    "    def __call__(self,candidate, reference):\n",
    "        candidate = self.filter_minutia(candidate)\n",
    "        reference = self.filter_minutia(reference)\n",
    "        matchedCs = []\n",
    "        matchedRs = []\n",
    "        totalDissimilarity = 0\n",
    "        minutiaeMatched = 0\n",
    "        for cindex, C in enumerate(candidate):\n",
    "            if cindex in matchedCs: continue\n",
    "            mostSimilarIndex = None\n",
    "            mostSimilarDissimilarity = None\n",
    "            for rindex, R in enumerate(reference):\n",
    "                if rindex in matchedRs: continue\n",
    "                dissimilarity = self.match_minutia(C,R)\n",
    "                #print(\"Returned: {}\".format(dissimilarity))\n",
    "                if (mostSimilarDissimilarity is None) or (mostSimilarDissimilarity > dissimilarity):\n",
    "                    mostSimilarIndex = rindex\n",
    "                    mostSimilarDissimilarity = dissimilarity\n",
    "            if mostSimilarDissimilarity is Matcher.NotSimilarAtAll:\n",
    "                #print (\"Total mismatch\")\n",
    "                return False\n",
    "            matchedCs.append(cindex)\n",
    "            matchedRs.append(mostSimilarIndex)\n",
    "            totalDissimilarity += (mostSimilarDissimilarity)\n",
    "            minutiaeMatched += 1\n",
    "            #print(\"Matched {} with {} at dissimilarity {}\".format(cindex,mostSimilarIndex,mostSimilarDissimilarity))\n",
    "            if self.stoppingConditions(totalDissimilarity, mostSimilarDissimilarity, minutiaeMatched):\n",
    "                return True\n",
    "        #print (\"Total dissimilarity: {}\".format(totalDissimilarity))\n",
    "        return (totalDissimilarity / minutiaeMatched < self.finalMatchThreshold)"
   ]
  },
  {
   "cell_type": "code",
   "execution_count": 16,
   "metadata": {
    "collapsed": false
   },
   "outputs": [
    {
     "data": {
      "text/plain": [
       "True"
      ]
     },
     "execution_count": 16,
     "metadata": {},
     "output_type": "execute_result"
    }
   ],
   "source": [
    "import ParseFingers as PF\n",
    "\n",
    "testFinger = PF.parseFilename(r\"mindtct/minutie/f0001_01.png.min\")\n",
    "testFinger2 = PF.parseFilename(r\"mindtct/minutie/f0002_05.png.min\")\n",
    "\n",
    "test = {'MinDissimilarity': 2.2306793596698347,\n",
    " 'N': 2.0,\n",
    " 'OptValue': 2.962895941182219,\n",
    " 'finalMatchThreshold': 9.510819603577431,\n",
    " 'thresholds': [39.978606828772456,\n",
    "  13.72104482880197,\n",
    "  1.03034591789699,\n",
    "  2],\n",
    " 'weights': (lambda l: [x/sum(l) for x in l]) ([10,1,1,8])}\n",
    "\n",
    "match = Matcher(**test)\n",
    "\n",
    "match(testFinger, testFinger2)"
   ]
  },
  {
   "cell_type": "code",
   "execution_count": 113,
   "metadata": {
    "collapsed": false
   },
   "outputs": [],
   "source": [
    "def test_batch():\n",
    "    def cached():\n",
    "        for finer in cached_fingers:\n",
    "            yield finer\n",
    "    gen = cached() # fingers()\n",
    "    while True:\n",
    "        valid1 = next(gen)\n",
    "        valid2 = next(gen)\n",
    "        switch1= next(gen)\n",
    "        switch2= next(gen)\n",
    "        yield [(valid1, True), (valid2, True)] + [(x,False) for x in list(zip(switch1, switch2))]"
   ]
  },
  {
   "cell_type": "code",
   "execution_count": 51,
   "metadata": {
    "collapsed": false
   },
   "outputs": [],
   "source": [
    "params = {\n",
    "    \"N\": 3,\n",
    "    \"OptValue\": 2,\n",
    "    \"MinDissimilarity\": 0.5,\n",
    "    \"thresholds\": [150,6,5,5],\n",
    "    \"weights\": (lambda l: [x/sum(l) for x in l]) ([1,1,1,1]),\n",
    "    \"finalMatchThreshold\": 10,\n",
    "}\n",
    "\n",
    "m = Matcher(**params)\n",
    "#m(*next(fingers()))"
   ]
  },
  {
   "cell_type": "code",
   "execution_count": 242,
   "metadata": {
    "collapsed": false
   },
   "outputs": [],
   "source": [
    "tn = 0\n",
    "tp = 0\n",
    "fn = 0\n",
    "fp = 0\n",
    "def test_matcher(matcher, points=100):\n",
    "    global tn,tp,fn,fp\n",
    "    score = 0\n",
    "    potential_score = 0\n",
    "    for x,_ in zip(test_batch(), range(points)):\n",
    "        for pair, value in x:\n",
    "            res = matcher(*pair)\n",
    "            if (res,value) == (False,False):\n",
    "                tn+=1\n",
    "            elif (res,value) == (False,True):\n",
    "                fn+=1\n",
    "            elif (res,value) == (True,False):\n",
    "                fp+=1\n",
    "            elif (res,value) == (True,True):\n",
    "                tp+=1\n",
    "            if (res==value): score+=1\n",
    "            potential_score +=1\n",
    "    return score"
   ]
  },
  {
   "cell_type": "markdown",
   "metadata": {},
   "source": [
    "### Okay, time for some MACHINE LEARNING"
   ]
  },
  {
   "cell_type": "code",
   "execution_count": null,
   "metadata": {
    "collapsed": false
   },
   "outputs": [],
   "source": [
    "\"\"\"adam = {\n",
    "    \"N\": 3,\n",
    "    \"OptValue\": 3.372311099894547,\n",
    "    \"MinDissimilarity\": 1.8,\n",
    "    \"thresholds\": [43.819599475473886,40.813192675288384,3,1.5],\n",
    "    \"weights\": (lambda l: [x/sum(l) for x in l]) ([5,1,2,3]),\n",
    "    \"finalMatchThreshold\": 13.641991683405926,\n",
    "}\"\"\"\n",
    "adam = test = {'MinDissimilarity': 2.2306793596698347,\n",
    " 'N': 2.0,\n",
    " 'OptValue': 2.962895941182219,\n",
    " 'finalMatchThreshold': 9.510819603577431,\n",
    " 'thresholds': [39.978606828772456,\n",
    "  13.72104482880197,\n",
    "  1.03034591789699,\n",
    "  2],\n",
    " 'weights': (lambda l: [x/sum(l) for x in l]) ([10,1,1,8])}\n",
    "\n",
    "class GeneticAlgo:\n",
    "    def __init__(self):\n",
    "        pass\n",
    "    \n",
    "    def mutate(self,sm):\n",
    "        for x in range(10):\n",
    "            sm=self._mutate(sm)\n",
    "        return sm\n",
    "    \n",
    "    def _mutate(self,sm):\n",
    "        import random\n",
    "        res = dict()\n",
    "        res [\"N\"]                   = max(1, sm[\"N\"] + random.choice([-1,1,0,0,0,0,0]))\n",
    "        res [\"OptValue\"]            = max(0.5, sm[\"OptValue\"] + random.uniform(-0.8,0.8))\n",
    "        res [\"MinDissimilarity\"]    = random.uniform(0,res [\"OptValue\"])\n",
    "        res [\"thresholds\"]          = [x*random.uniform(0.7,1.3) for x in sm [\"thresholds\"]]\n",
    "        res [\"weights\"]             = sm [\"weights\"]\n",
    "        res [\"finalMatchThreshold\"] = max(res [\"OptValue\"], sm [\"finalMatchThreshold\"] * random.uniform(0.8,1.2))\n",
    "        return res\n",
    "    \n",
    "    def crossbreed(self,sp1,sp2):\n",
    "        res = dict()\n",
    "        res [\"N\"]                   = (sp1[\"N\"]+sp2[\"N\"])/2\n",
    "        res [\"OptValue\"]            = (sp1[\"OptValue\"]+sp2[\"OptValue\"])/2\n",
    "        res [\"MinDissimilarity\"]    = (sp1[\"MinDissimilarity\"]+sp2[\"MinDissimilarity\"])/2\n",
    "        res [\"thresholds\"]          = [(x+y)/2 for (x,y) in zip(sp1[\"thresholds\"],sp2[\"thresholds\"])]\n",
    "        res [\"weights\"]             = sp1 [\"weights\"]\n",
    "        res [\"finalMatchThreshold\"] = (sp1[\"finalMatchThreshold\"]+sp2[\"finalMatchThreshold\"])/2\n",
    "        return res\n",
    "    \n",
    "    def of(self,sp1):\n",
    "        return -test_matcher(Matcher(**sp1))\n",
    "    \n",
    "    def random_popul(self, size):\n",
    "        m = lambda x: self.mutate(x)\n",
    "        return [m(m(m(adam))) for _ in range(size)]\n",
    "    \n",
    "    def extinct(self,popul,desired_popul):\n",
    "        tested = [(x,self.of(x)) for x in popul]\n",
    "        tested = sorted(tested, key=lambda x: x[1])\n",
    "        outcome = [x[0] for x in tested[:desired_popul]]\n",
    "        print([x[1] for x in tested[:desired_popul]])\n",
    "        return outcome\n",
    "    \n",
    "    def multiply(self,popul):\n",
    "        import itertools\n",
    "        res = []\n",
    "        for mom,dad in itertools.combinations(popul,2):\n",
    "            if mom is not dad:\n",
    "                res.append((self.mutate(self.crossbreed(mom,dad))))\n",
    "        return popul+res\n",
    "    \n",
    "    def step(self,popul):\n",
    "        res = self.extinct(popul,9)\n",
    "        return self.multiply(res)\n",
    "    \n",
    "    def peek(self,popul):\n",
    "        print([self.of(x) for x in popul])"
   ]
  },
  {
   "cell_type": "code",
   "execution_count": null,
   "metadata": {
    "collapsed": true
   },
   "outputs": [],
   "source": [
    "best_candidate = None"
   ]
  },
  {
   "cell_type": "code",
   "execution_count": 285,
   "metadata": {
    "collapsed": false
   },
   "outputs": [
    {
     "name": "stderr",
     "output_type": "stream",
     "text": [
      "C:\\Users\\Artem\\Anaconda3\\lib\\site-packages\\ipykernel\\__main__.py:9: DeprecationWarning: generator 'test_batch' raised StopIteration\n"
     ]
    },
    {
     "name": "stdout",
     "output_type": "stream",
     "text": [
      "[-62, -61, -59, -59, -58, -57, -56, -56, -55]\n",
      "[-62, -62, -62, -61, -60, -59, -59, -59, -58]\n",
      "[-65, -62, -62, -62, -62, -61, -61, -61, -60]\n",
      "[-65, -64, -62, -62, -62, -62, -62, -62, -61]\n",
      "[-65, -64, -64, -63, -63, -62, -62, -62, -62]\n",
      "[-65, -65, -64, -64, -64, -63, -63, -63, -63]\n",
      "[-65, -65, -64, -64, -64, -64, -63, -63, -63]\n",
      "[-65, -65, -65, -64, -64, -64, -64, -64, -63]\n",
      "[-66, -65, -65, -65, -65, -64, -64, -64, -64]\n",
      "[-66, -65, -65, -65, -65, -64, -64, -64, -64]\n",
      "[-67, -66, -65, -65, -65, -65, -64, -64, -64]\n",
      "[-67, -66, -65, -65, -65, -65, -64, -64, -64]\n",
      "[-67, -66, -65, -65, -65, -65, -65, -64, -64]\n",
      "[-67, -66, -66, -65, -65, -65, -65, -65, -64]\n",
      "[-67, -66, -66, -65, -65, -65, -65, -65, -64]\n",
      "[-67, -66, -66, -66, -65, -65, -65, -65, -65]\n",
      "[-67, -66, -66, -66, -65, -65, -65, -65, -65]\n",
      "[-67, -66, -66, -66, -65, -65, -65, -65, -65]\n",
      "[-67, -66, -66, -66, -66, -65, -65, -65, -65]\n",
      "[-67, -66, -66, -66, -66, -65, -65, -65, -65]\n",
      "[-67, -66, -66, -66, -66, -65, -65, -65, -65]\n",
      "[-67, -66, -66, -66, -66, -65, -65, -65, -65]\n",
      "[-67, -66, -66, -66, -66, -65, -65, -65, -65]\n",
      "[-67, -66, -66, -66, -66, -65, -65, -65, -65]\n",
      "[-67, -66, -66, -66, -66, -65, -65, -65, -65]\n",
      "[-67, -66, -66, -66, -66, -65, -65, -65, -65]\n",
      "[-67, -66, -66, -66, -66, -65, -65, -65, -65]\n",
      "[-67, -66, -66, -66, -66, -65, -65, -65, -65]\n",
      "[-67, -66, -66, -66, -66, -65, -65, -65, -65]\n",
      "[-67, -66, -66, -66, -66, -66, -65, -65, -65]\n",
      "[-67, -66, -66, -66, -66, -66, -65, -65, -65]\n",
      "[-67, -66, -66, -66, -66, -66, -65, -65, -65]\n",
      "[-67, -66, -66, -66, -66, -66, -66, -65, -65]\n",
      "[-67, -66, -66, -66, -66, -66, -66, -66, -66]\n",
      "[-67, -66, -66, -66, -66, -66, -66, -66, -66]\n",
      "[-67, -66, -66, -66, -66, -66, -66, -66, -66]\n",
      "[-67, -66, -66, -66, -66, -66, -66, -66, -66]\n",
      "[-67, -66, -66, -66, -66, -66, -66, -66, -66]\n",
      "[-67, -66, -66, -66, -66, -66, -66, -66, -66]\n",
      "[-67, -66, -66, -66, -66, -66, -66, -66, -66]\n",
      "[-67, -66, -66, -66, -66, -66, -66, -66, -66]\n",
      "[-67, -66, -66, -66, -66, -66, -66, -66, -66]\n",
      "[-67, -66, -66, -66, -66, -66, -66, -66, -66]\n",
      "[-67, -66, -66, -66, -66, -66, -66, -66, -66]\n",
      "[-67, -66, -66, -66, -66, -66, -66, -66, -66]\n",
      "[-67, -66, -66, -66, -66, -66, -66, -66, -66]\n",
      "[-67, -66, -66, -66, -66, -66, -66, -66, -66]\n",
      "[-67, -66, -66, -66, -66, -66, -66, -66, -66]\n",
      "[-67, -66, -66, -66, -66, -66, -66, -66, -66]\n",
      "[-67, -66, -66, -66, -66, -66, -66, -66, -66]\n",
      "[-67, -66, -66, -66, -66, -66, -66, -66, -66]\n",
      "[-67, -66, -66, -66, -66, -66, -66, -66, -66]\n",
      "[-67, -66, -66, -66, -66, -66, -66, -66, -66]\n",
      "[-67, -66, -66, -66, -66, -66, -66, -66, -66]\n",
      "[-67, -66, -66, -66, -66, -66, -66, -66, -66]\n",
      "[-67, -66, -66, -66, -66, -66, -66, -66, -66]\n",
      "[-67, -66, -66, -66, -66, -66, -66, -66, -66]\n",
      "[-67, -66, -66, -66, -66, -66, -66, -66, -66]\n",
      "[-67, -66, -66, -66, -66, -66, -66, -66, -66]\n",
      "[-67, -66, -66, -66, -66, -66, -66, -66, -66]\n",
      "[-67, -66, -66, -66, -66, -66, -66, -66, -66]\n",
      "[-67, -66, -66, -66, -66, -66, -66, -66, -66]\n",
      "[-67, -66, -66, -66, -66, -66, -66, -66, -66]\n",
      "[-67, -66, -66, -66, -66, -66, -66, -66, -66]\n",
      "[-67, -66, -66, -66, -66, -66, -66, -66, -66]\n",
      "[-67, -66, -66, -66, -66, -66, -66, -66, -66]\n",
      "[-67, -66, -66, -66, -66, -66, -66, -66, -66]\n",
      "[-67, -66, -66, -66, -66, -66, -66, -66, -66]\n",
      "[-67, -66, -66, -66, -66, -66, -66, -66, -66]\n",
      "[-67, -66, -66, -66, -66, -66, -66, -66, -66]\n",
      "[-67, -66, -66, -66, -66, -66, -66, -66, -66]\n",
      "[-67, -67, -66, -66, -66, -66, -66, -66, -66]\n",
      "[-67, -67, -66, -66, -66, -66, -66, -66, -66]\n",
      "[-67, -67, -66, -66, -66, -66, -66, -66, -66]\n",
      "[-67, -67, -66, -66, -66, -66, -66, -66, -66]\n",
      "[-67, -67, -66, -66, -66, -66, -66, -66, -66]\n",
      "[-67, -67, -66, -66, -66, -66, -66, -66, -66]\n",
      "[-67, -67, -66, -66, -66, -66, -66, -66, -66]\n",
      "[-67, -67, -66, -66, -66, -66, -66, -66, -66]\n"
     ]
    },
    {
     "ename": "KeyboardInterrupt",
     "evalue": "",
     "output_type": "error",
     "traceback": [
      "\u001b[0;31m---------------------------------------------------------------------------\u001b[0m",
      "\u001b[0;31mKeyboardInterrupt\u001b[0m                         Traceback (most recent call last)",
      "\u001b[0;32m<ipython-input-285-56165c81b1ed>\u001b[0m in \u001b[0;36m<module>\u001b[0;34m()\u001b[0m\n\u001b[1;32m      2\u001b[0m \u001b[0mpopul\u001b[0m \u001b[1;33m=\u001b[0m \u001b[0malg\u001b[0m\u001b[1;33m.\u001b[0m\u001b[0mrandom_popul\u001b[0m\u001b[1;33m(\u001b[0m\u001b[1;36m45\u001b[0m\u001b[1;33m)\u001b[0m\u001b[1;33m\u001b[0m\u001b[0m\n\u001b[1;32m      3\u001b[0m \u001b[1;32mwhile\u001b[0m \u001b[1;33m(\u001b[0m\u001b[1;32mTrue\u001b[0m\u001b[1;33m)\u001b[0m\u001b[1;33m:\u001b[0m\u001b[1;33m\u001b[0m\u001b[0m\n\u001b[0;32m----> 4\u001b[0;31m     \u001b[0mpopul\u001b[0m \u001b[1;33m=\u001b[0m \u001b[0malg\u001b[0m\u001b[1;33m.\u001b[0m\u001b[0mstep\u001b[0m\u001b[1;33m(\u001b[0m\u001b[0mpopul\u001b[0m\u001b[1;33m)\u001b[0m\u001b[1;33m\u001b[0m\u001b[0m\n\u001b[0m\u001b[1;32m      5\u001b[0m     \u001b[0mbest_candidate\u001b[0m \u001b[1;33m=\u001b[0m \u001b[0mpopul\u001b[0m\u001b[1;33m[\u001b[0m\u001b[1;36m0\u001b[0m\u001b[1;33m]\u001b[0m\u001b[1;33m\u001b[0m\u001b[0m\n",
      "\u001b[0;32m<ipython-input-282-4367d90b7156>\u001b[0m in \u001b[0;36mstep\u001b[0;34m(self, popul)\u001b[0m\n\u001b[1;32m     70\u001b[0m \u001b[1;33m\u001b[0m\u001b[0m\n\u001b[1;32m     71\u001b[0m     \u001b[1;32mdef\u001b[0m \u001b[0mstep\u001b[0m\u001b[1;33m(\u001b[0m\u001b[0mself\u001b[0m\u001b[1;33m,\u001b[0m\u001b[0mpopul\u001b[0m\u001b[1;33m)\u001b[0m\u001b[1;33m:\u001b[0m\u001b[1;33m\u001b[0m\u001b[0m\n\u001b[0;32m---> 72\u001b[0;31m         \u001b[0mres\u001b[0m \u001b[1;33m=\u001b[0m \u001b[0mself\u001b[0m\u001b[1;33m.\u001b[0m\u001b[0mextinct\u001b[0m\u001b[1;33m(\u001b[0m\u001b[0mpopul\u001b[0m\u001b[1;33m,\u001b[0m\u001b[1;36m9\u001b[0m\u001b[1;33m)\u001b[0m\u001b[1;33m\u001b[0m\u001b[0m\n\u001b[0m\u001b[1;32m     73\u001b[0m         \u001b[1;32mreturn\u001b[0m \u001b[0mself\u001b[0m\u001b[1;33m.\u001b[0m\u001b[0mmultiply\u001b[0m\u001b[1;33m(\u001b[0m\u001b[0mres\u001b[0m\u001b[1;33m)\u001b[0m\u001b[1;33m\u001b[0m\u001b[0m\n\u001b[1;32m     74\u001b[0m \u001b[1;33m\u001b[0m\u001b[0m\n",
      "\u001b[0;32m<ipython-input-282-4367d90b7156>\u001b[0m in \u001b[0;36mextinct\u001b[0;34m(self, popul, desired_popul)\u001b[0m\n\u001b[1;32m     55\u001b[0m \u001b[1;33m\u001b[0m\u001b[0m\n\u001b[1;32m     56\u001b[0m     \u001b[1;32mdef\u001b[0m \u001b[0mextinct\u001b[0m\u001b[1;33m(\u001b[0m\u001b[0mself\u001b[0m\u001b[1;33m,\u001b[0m\u001b[0mpopul\u001b[0m\u001b[1;33m,\u001b[0m\u001b[0mdesired_popul\u001b[0m\u001b[1;33m)\u001b[0m\u001b[1;33m:\u001b[0m\u001b[1;33m\u001b[0m\u001b[0m\n\u001b[0;32m---> 57\u001b[0;31m         \u001b[0mtested\u001b[0m \u001b[1;33m=\u001b[0m \u001b[1;33m[\u001b[0m\u001b[1;33m(\u001b[0m\u001b[0mx\u001b[0m\u001b[1;33m,\u001b[0m\u001b[0mself\u001b[0m\u001b[1;33m.\u001b[0m\u001b[0mof\u001b[0m\u001b[1;33m(\u001b[0m\u001b[0mx\u001b[0m\u001b[1;33m)\u001b[0m\u001b[1;33m)\u001b[0m \u001b[1;32mfor\u001b[0m \u001b[0mx\u001b[0m \u001b[1;32min\u001b[0m \u001b[0mpopul\u001b[0m\u001b[1;33m]\u001b[0m\u001b[1;33m\u001b[0m\u001b[0m\n\u001b[0m\u001b[1;32m     58\u001b[0m         \u001b[0mtested\u001b[0m \u001b[1;33m=\u001b[0m \u001b[0msorted\u001b[0m\u001b[1;33m(\u001b[0m\u001b[0mtested\u001b[0m\u001b[1;33m,\u001b[0m \u001b[0mkey\u001b[0m\u001b[1;33m=\u001b[0m\u001b[1;32mlambda\u001b[0m \u001b[0mx\u001b[0m\u001b[1;33m:\u001b[0m \u001b[0mx\u001b[0m\u001b[1;33m[\u001b[0m\u001b[1;36m1\u001b[0m\u001b[1;33m]\u001b[0m\u001b[1;33m)\u001b[0m\u001b[1;33m\u001b[0m\u001b[0m\n\u001b[1;32m     59\u001b[0m         \u001b[0moutcome\u001b[0m \u001b[1;33m=\u001b[0m \u001b[1;33m[\u001b[0m\u001b[0mx\u001b[0m\u001b[1;33m[\u001b[0m\u001b[1;36m0\u001b[0m\u001b[1;33m]\u001b[0m \u001b[1;32mfor\u001b[0m \u001b[0mx\u001b[0m \u001b[1;32min\u001b[0m \u001b[0mtested\u001b[0m\u001b[1;33m[\u001b[0m\u001b[1;33m:\u001b[0m\u001b[0mdesired_popul\u001b[0m\u001b[1;33m]\u001b[0m\u001b[1;33m]\u001b[0m\u001b[1;33m\u001b[0m\u001b[0m\n",
      "\u001b[0;32m<ipython-input-282-4367d90b7156>\u001b[0m in \u001b[0;36m<listcomp>\u001b[0;34m(.0)\u001b[0m\n\u001b[1;32m     55\u001b[0m \u001b[1;33m\u001b[0m\u001b[0m\n\u001b[1;32m     56\u001b[0m     \u001b[1;32mdef\u001b[0m \u001b[0mextinct\u001b[0m\u001b[1;33m(\u001b[0m\u001b[0mself\u001b[0m\u001b[1;33m,\u001b[0m\u001b[0mpopul\u001b[0m\u001b[1;33m,\u001b[0m\u001b[0mdesired_popul\u001b[0m\u001b[1;33m)\u001b[0m\u001b[1;33m:\u001b[0m\u001b[1;33m\u001b[0m\u001b[0m\n\u001b[0;32m---> 57\u001b[0;31m         \u001b[0mtested\u001b[0m \u001b[1;33m=\u001b[0m \u001b[1;33m[\u001b[0m\u001b[1;33m(\u001b[0m\u001b[0mx\u001b[0m\u001b[1;33m,\u001b[0m\u001b[0mself\u001b[0m\u001b[1;33m.\u001b[0m\u001b[0mof\u001b[0m\u001b[1;33m(\u001b[0m\u001b[0mx\u001b[0m\u001b[1;33m)\u001b[0m\u001b[1;33m)\u001b[0m \u001b[1;32mfor\u001b[0m \u001b[0mx\u001b[0m \u001b[1;32min\u001b[0m \u001b[0mpopul\u001b[0m\u001b[1;33m]\u001b[0m\u001b[1;33m\u001b[0m\u001b[0m\n\u001b[0m\u001b[1;32m     58\u001b[0m         \u001b[0mtested\u001b[0m \u001b[1;33m=\u001b[0m \u001b[0msorted\u001b[0m\u001b[1;33m(\u001b[0m\u001b[0mtested\u001b[0m\u001b[1;33m,\u001b[0m \u001b[0mkey\u001b[0m\u001b[1;33m=\u001b[0m\u001b[1;32mlambda\u001b[0m \u001b[0mx\u001b[0m\u001b[1;33m:\u001b[0m \u001b[0mx\u001b[0m\u001b[1;33m[\u001b[0m\u001b[1;36m1\u001b[0m\u001b[1;33m]\u001b[0m\u001b[1;33m)\u001b[0m\u001b[1;33m\u001b[0m\u001b[0m\n\u001b[1;32m     59\u001b[0m         \u001b[0moutcome\u001b[0m \u001b[1;33m=\u001b[0m \u001b[1;33m[\u001b[0m\u001b[0mx\u001b[0m\u001b[1;33m[\u001b[0m\u001b[1;36m0\u001b[0m\u001b[1;33m]\u001b[0m \u001b[1;32mfor\u001b[0m \u001b[0mx\u001b[0m \u001b[1;32min\u001b[0m \u001b[0mtested\u001b[0m\u001b[1;33m[\u001b[0m\u001b[1;33m:\u001b[0m\u001b[0mdesired_popul\u001b[0m\u001b[1;33m]\u001b[0m\u001b[1;33m]\u001b[0m\u001b[1;33m\u001b[0m\u001b[0m\n",
      "\u001b[0;32m<ipython-input-282-4367d90b7156>\u001b[0m in \u001b[0;36mof\u001b[0;34m(self, sp1)\u001b[0m\n\u001b[1;32m     48\u001b[0m \u001b[1;33m\u001b[0m\u001b[0m\n\u001b[1;32m     49\u001b[0m     \u001b[1;32mdef\u001b[0m \u001b[0mof\u001b[0m\u001b[1;33m(\u001b[0m\u001b[0mself\u001b[0m\u001b[1;33m,\u001b[0m\u001b[0msp1\u001b[0m\u001b[1;33m)\u001b[0m\u001b[1;33m:\u001b[0m\u001b[1;33m\u001b[0m\u001b[0m\n\u001b[0;32m---> 50\u001b[0;31m         \u001b[1;32mreturn\u001b[0m \u001b[1;33m-\u001b[0m\u001b[0mtest_matcher\u001b[0m\u001b[1;33m(\u001b[0m\u001b[0mMatcher\u001b[0m\u001b[1;33m(\u001b[0m\u001b[1;33m**\u001b[0m\u001b[0msp1\u001b[0m\u001b[1;33m)\u001b[0m\u001b[1;33m)\u001b[0m\u001b[1;33m\u001b[0m\u001b[0m\n\u001b[0m\u001b[1;32m     51\u001b[0m \u001b[1;33m\u001b[0m\u001b[0m\n\u001b[1;32m     52\u001b[0m     \u001b[1;32mdef\u001b[0m \u001b[0mrandom_popul\u001b[0m\u001b[1;33m(\u001b[0m\u001b[0mself\u001b[0m\u001b[1;33m,\u001b[0m \u001b[0msize\u001b[0m\u001b[1;33m)\u001b[0m\u001b[1;33m:\u001b[0m\u001b[1;33m\u001b[0m\u001b[0m\n",
      "\u001b[0;32m<ipython-input-242-399cf6fbc634>\u001b[0m in \u001b[0;36mtest_matcher\u001b[0;34m(matcher, points)\u001b[0m\n\u001b[1;32m      9\u001b[0m     \u001b[1;32mfor\u001b[0m \u001b[0mx\u001b[0m\u001b[1;33m,\u001b[0m\u001b[0m_\u001b[0m \u001b[1;32min\u001b[0m \u001b[0mzip\u001b[0m\u001b[1;33m(\u001b[0m\u001b[0mtest_batch\u001b[0m\u001b[1;33m(\u001b[0m\u001b[1;33m)\u001b[0m\u001b[1;33m,\u001b[0m \u001b[0mrange\u001b[0m\u001b[1;33m(\u001b[0m\u001b[0mpoints\u001b[0m\u001b[1;33m)\u001b[0m\u001b[1;33m)\u001b[0m\u001b[1;33m:\u001b[0m\u001b[1;33m\u001b[0m\u001b[0m\n\u001b[1;32m     10\u001b[0m         \u001b[1;32mfor\u001b[0m \u001b[0mpair\u001b[0m\u001b[1;33m,\u001b[0m \u001b[0mvalue\u001b[0m \u001b[1;32min\u001b[0m \u001b[0mx\u001b[0m\u001b[1;33m:\u001b[0m\u001b[1;33m\u001b[0m\u001b[0m\n\u001b[0;32m---> 11\u001b[0;31m             \u001b[0mres\u001b[0m \u001b[1;33m=\u001b[0m \u001b[0mmatcher\u001b[0m\u001b[1;33m(\u001b[0m\u001b[1;33m*\u001b[0m\u001b[0mpair\u001b[0m\u001b[1;33m)\u001b[0m\u001b[1;33m\u001b[0m\u001b[0m\n\u001b[0m\u001b[1;32m     12\u001b[0m             \u001b[1;32mif\u001b[0m \u001b[1;33m(\u001b[0m\u001b[0mres\u001b[0m\u001b[1;33m,\u001b[0m\u001b[0mvalue\u001b[0m\u001b[1;33m)\u001b[0m \u001b[1;33m==\u001b[0m \u001b[1;33m(\u001b[0m\u001b[1;32mFalse\u001b[0m\u001b[1;33m,\u001b[0m\u001b[1;32mFalse\u001b[0m\u001b[1;33m)\u001b[0m\u001b[1;33m:\u001b[0m\u001b[1;33m\u001b[0m\u001b[0m\n\u001b[1;32m     13\u001b[0m                 \u001b[0mtn\u001b[0m\u001b[1;33m+=\u001b[0m\u001b[1;36m1\u001b[0m\u001b[1;33m\u001b[0m\u001b[0m\n",
      "\u001b[0;32m<ipython-input-91-a25e01c5f4ad>\u001b[0m in \u001b[0;36m__call__\u001b[0;34m(self, candidate, reference)\u001b[0m\n\u001b[1;32m    139\u001b[0m             \u001b[1;32mfor\u001b[0m \u001b[0mrindex\u001b[0m\u001b[1;33m,\u001b[0m \u001b[0mR\u001b[0m \u001b[1;32min\u001b[0m \u001b[0menumerate\u001b[0m\u001b[1;33m(\u001b[0m\u001b[0mreference\u001b[0m\u001b[1;33m)\u001b[0m\u001b[1;33m:\u001b[0m\u001b[1;33m\u001b[0m\u001b[0m\n\u001b[1;32m    140\u001b[0m                 \u001b[1;32mif\u001b[0m \u001b[0mrindex\u001b[0m \u001b[1;32min\u001b[0m \u001b[0mmatchedRs\u001b[0m\u001b[1;33m:\u001b[0m \u001b[1;32mcontinue\u001b[0m\u001b[1;33m\u001b[0m\u001b[0m\n\u001b[0;32m--> 141\u001b[0;31m                 \u001b[0mdissimilarity\u001b[0m \u001b[1;33m=\u001b[0m \u001b[0mself\u001b[0m\u001b[1;33m.\u001b[0m\u001b[0mmatch_minutia\u001b[0m\u001b[1;33m(\u001b[0m\u001b[0mC\u001b[0m\u001b[1;33m,\u001b[0m\u001b[0mR\u001b[0m\u001b[1;33m)\u001b[0m\u001b[1;33m\u001b[0m\u001b[0m\n\u001b[0m\u001b[1;32m    142\u001b[0m                 \u001b[1;31m#print(\"Returned: {}\".format(dissimilarity))\u001b[0m\u001b[1;33m\u001b[0m\u001b[1;33m\u001b[0m\u001b[0m\n\u001b[1;32m    143\u001b[0m                 \u001b[1;32mif\u001b[0m \u001b[1;33m(\u001b[0m\u001b[0mmostSimilarDissimilarity\u001b[0m \u001b[1;32mis\u001b[0m \u001b[1;32mNone\u001b[0m\u001b[1;33m)\u001b[0m \u001b[1;32mor\u001b[0m \u001b[1;33m(\u001b[0m\u001b[0mmostSimilarDissimilarity\u001b[0m \u001b[1;33m>\u001b[0m \u001b[0mdissimilarity\u001b[0m\u001b[1;33m)\u001b[0m\u001b[1;33m:\u001b[0m\u001b[1;33m\u001b[0m\u001b[0m\n",
      "\u001b[0;32m<ipython-input-91-a25e01c5f4ad>\u001b[0m in \u001b[0;36mmatch_minutia\u001b[0;34m(self, min1, min2)\u001b[0m\n\u001b[1;32m     96\u001b[0m             \u001b[1;32mfor\u001b[0m \u001b[0mjindex\u001b[0m\u001b[1;33m,\u001b[0m \u001b[0mJ\u001b[0m \u001b[1;32min\u001b[0m \u001b[0menumerate\u001b[0m\u001b[1;33m(\u001b[0m\u001b[0mmin2\u001b[0m\u001b[1;33m[\u001b[0m\u001b[1;34m\"neighbours\"\u001b[0m\u001b[1;33m]\u001b[0m\u001b[1;33m)\u001b[0m\u001b[1;33m:\u001b[0m\u001b[1;33m\u001b[0m\u001b[0m\n\u001b[1;32m     97\u001b[0m                 \u001b[1;32mif\u001b[0m \u001b[0mjindex\u001b[0m \u001b[1;32min\u001b[0m \u001b[0mmatchedJs\u001b[0m\u001b[1;33m:\u001b[0m \u001b[1;32mcontinue\u001b[0m\u001b[1;33m\u001b[0m\u001b[0m\n\u001b[0;32m---> 98\u001b[0;31m                 \u001b[0mdissimilarity\u001b[0m \u001b[1;33m=\u001b[0m \u001b[0mself\u001b[0m\u001b[1;33m.\u001b[0m\u001b[0mmatch_neighbours\u001b[0m\u001b[1;33m(\u001b[0m\u001b[0mmin1\u001b[0m\u001b[1;33m,\u001b[0m\u001b[0mmin2\u001b[0m\u001b[1;33m,\u001b[0m\u001b[0mI\u001b[0m\u001b[1;33m,\u001b[0m\u001b[0mJ\u001b[0m\u001b[1;33m)\u001b[0m\u001b[1;33m\u001b[0m\u001b[0m\n\u001b[0m\u001b[1;32m     99\u001b[0m                 \u001b[1;32mif\u001b[0m \u001b[1;33m(\u001b[0m\u001b[0mdissimilarity\u001b[0m \u001b[1;32mis\u001b[0m \u001b[1;32mFalse\u001b[0m\u001b[1;33m)\u001b[0m\u001b[1;33m:\u001b[0m\u001b[1;33m\u001b[0m\u001b[0m\n\u001b[1;32m    100\u001b[0m                     \u001b[1;32mcontinue\u001b[0m\u001b[1;33m\u001b[0m\u001b[0m\n",
      "\u001b[0;32m<ipython-input-91-a25e01c5f4ad>\u001b[0m in \u001b[0;36mmatch_neighbours\u001b[0;34m(self, p1, p2, n1, n2)\u001b[0m\n\u001b[1;32m     62\u001b[0m         \u001b[0mEd2\u001b[0m \u001b[1;33m=\u001b[0m \u001b[0mself\u001b[0m\u001b[1;33m.\u001b[0m\u001b[0meuclidian_distance\u001b[0m\u001b[1;33m(\u001b[0m\u001b[0mp2\u001b[0m\u001b[1;33m,\u001b[0m\u001b[0mn2\u001b[0m\u001b[1;33m)\u001b[0m\u001b[1;33m\u001b[0m\u001b[0m\n\u001b[1;32m     63\u001b[0m         \u001b[0mDra1\u001b[0m\u001b[1;33m=\u001b[0m \u001b[0mself\u001b[0m\u001b[1;33m.\u001b[0m\u001b[0mdistance_relative_angle\u001b[0m\u001b[1;33m(\u001b[0m\u001b[0mp1\u001b[0m\u001b[1;33m,\u001b[0m\u001b[0mn1\u001b[0m\u001b[1;33m)\u001b[0m\u001b[1;33m\u001b[0m\u001b[0m\n\u001b[0;32m---> 64\u001b[0;31m         \u001b[0mDra2\u001b[0m\u001b[1;33m=\u001b[0m \u001b[0mself\u001b[0m\u001b[1;33m.\u001b[0m\u001b[0mdistance_relative_angle\u001b[0m\u001b[1;33m(\u001b[0m\u001b[0mp2\u001b[0m\u001b[1;33m,\u001b[0m\u001b[0mn2\u001b[0m\u001b[1;33m)\u001b[0m\u001b[1;33m\u001b[0m\u001b[0m\n\u001b[0m\u001b[1;32m     65\u001b[0m         \u001b[0mOra1\u001b[0m\u001b[1;33m=\u001b[0m \u001b[0mself\u001b[0m\u001b[1;33m.\u001b[0m\u001b[0morientation_relative_angle\u001b[0m\u001b[1;33m(\u001b[0m\u001b[0mp1\u001b[0m\u001b[1;33m,\u001b[0m\u001b[0mn1\u001b[0m\u001b[1;33m)\u001b[0m\u001b[1;33m\u001b[0m\u001b[0m\n\u001b[1;32m     66\u001b[0m         \u001b[0mOra2\u001b[0m\u001b[1;33m=\u001b[0m \u001b[0mself\u001b[0m\u001b[1;33m.\u001b[0m\u001b[0morientation_relative_angle\u001b[0m\u001b[1;33m(\u001b[0m\u001b[0mp2\u001b[0m\u001b[1;33m,\u001b[0m\u001b[0mn2\u001b[0m\u001b[1;33m)\u001b[0m\u001b[1;33m\u001b[0m\u001b[0m\n",
      "\u001b[0;32m<ipython-input-91-a25e01c5f4ad>\u001b[0m in \u001b[0;36mdistance_relative_angle\u001b[0;34m(self, P, N)\u001b[0m\n\u001b[1;32m     31\u001b[0m     \u001b[1;32mdef\u001b[0m \u001b[0mdistance_relative_angle\u001b[0m\u001b[1;33m(\u001b[0m\u001b[0mself\u001b[0m\u001b[1;33m,\u001b[0m \u001b[0mP\u001b[0m\u001b[1;33m,\u001b[0m\u001b[0mN\u001b[0m\u001b[1;33m)\u001b[0m\u001b[1;33m:\u001b[0m\u001b[1;33m\u001b[0m\u001b[0m\n\u001b[1;32m     32\u001b[0m         \u001b[0mup\u001b[0m \u001b[1;33m=\u001b[0m \u001b[1;33m(\u001b[0m\u001b[1;36m0\u001b[0m\u001b[1;33m,\u001b[0m\u001b[1;33m-\u001b[0m\u001b[1;36m1\u001b[0m\u001b[1;33m)\u001b[0m\u001b[1;33m\u001b[0m\u001b[0m\n\u001b[0;32m---> 33\u001b[0;31m         \u001b[0mPdir\u001b[0m \u001b[1;33m=\u001b[0m \u001b[0mself\u001b[0m\u001b[1;33m.\u001b[0m\u001b[0mrotate\u001b[0m\u001b[1;33m(\u001b[0m\u001b[0mup\u001b[0m\u001b[1;33m,\u001b[0m\u001b[0mP\u001b[0m\u001b[1;33m[\u001b[0m\u001b[1;34m\"dir\"\u001b[0m\u001b[1;33m]\u001b[0m\u001b[1;33m)\u001b[0m\u001b[1;33m\u001b[0m\u001b[0m\n\u001b[0m\u001b[1;32m     34\u001b[0m         \u001b[0mD\u001b[0m \u001b[1;33m=\u001b[0m \u001b[0mself\u001b[0m\u001b[1;33m.\u001b[0m\u001b[0mdiff\u001b[0m\u001b[1;33m(\u001b[0m\u001b[0mP\u001b[0m\u001b[1;33m,\u001b[0m\u001b[0mN\u001b[0m\u001b[1;33m)\u001b[0m\u001b[1;33m\u001b[0m\u001b[0m\n\u001b[1;32m     35\u001b[0m         \u001b[1;32mreturn\u001b[0m \u001b[0mself\u001b[0m\u001b[1;33m.\u001b[0m\u001b[0mangle\u001b[0m\u001b[1;33m(\u001b[0m\u001b[1;33m(\u001b[0m\u001b[1;33m-\u001b[0m\u001b[0mD\u001b[0m\u001b[1;33m[\u001b[0m\u001b[1;36m0\u001b[0m\u001b[1;33m]\u001b[0m\u001b[1;33m,\u001b[0m\u001b[1;33m-\u001b[0m\u001b[0mD\u001b[0m\u001b[1;33m[\u001b[0m\u001b[1;36m1\u001b[0m\u001b[1;33m]\u001b[0m\u001b[1;33m)\u001b[0m\u001b[1;33m,\u001b[0m \u001b[0mPdir\u001b[0m\u001b[1;33m)\u001b[0m\u001b[1;33m\u001b[0m\u001b[0m\n",
      "\u001b[0;32m<ipython-input-91-a25e01c5f4ad>\u001b[0m in \u001b[0;36mrotate\u001b[0;34m(self, vector, steps)\u001b[0m\n\u001b[1;32m     22\u001b[0m     \u001b[1;32mdef\u001b[0m \u001b[0mrotate\u001b[0m\u001b[1;33m(\u001b[0m\u001b[0mself\u001b[0m\u001b[1;33m,\u001b[0m \u001b[0mvector\u001b[0m\u001b[1;33m,\u001b[0m \u001b[0msteps\u001b[0m\u001b[1;33m)\u001b[0m\u001b[1;33m:\u001b[0m \u001b[1;31m# 32 steps in 360 degrees\u001b[0m\u001b[1;33m\u001b[0m\u001b[0m\n\u001b[1;32m     23\u001b[0m         \u001b[0mx\u001b[0m \u001b[1;33m=\u001b[0m \u001b[0mvector\u001b[0m\u001b[1;33m[\u001b[0m\u001b[1;36m0\u001b[0m\u001b[1;33m]\u001b[0m\u001b[1;33m*\u001b[0m\u001b[0mmath\u001b[0m\u001b[1;33m.\u001b[0m\u001b[0mcos\u001b[0m\u001b[1;33m(\u001b[0m\u001b[0msteps\u001b[0m\u001b[1;33m*\u001b[0m\u001b[0mmath\u001b[0m\u001b[1;33m.\u001b[0m\u001b[0mpi\u001b[0m \u001b[1;33m/\u001b[0m \u001b[1;36m16\u001b[0m\u001b[1;33m)\u001b[0m \u001b[1;33m-\u001b[0m \u001b[0mvector\u001b[0m\u001b[1;33m[\u001b[0m\u001b[1;36m1\u001b[0m\u001b[1;33m]\u001b[0m\u001b[1;33m*\u001b[0m\u001b[0mmath\u001b[0m\u001b[1;33m.\u001b[0m\u001b[0msin\u001b[0m\u001b[1;33m(\u001b[0m\u001b[0msteps\u001b[0m\u001b[1;33m*\u001b[0m\u001b[0mmath\u001b[0m\u001b[1;33m.\u001b[0m\u001b[0mpi\u001b[0m \u001b[1;33m/\u001b[0m \u001b[1;36m16\u001b[0m\u001b[1;33m)\u001b[0m\u001b[1;33m\u001b[0m\u001b[0m\n\u001b[0;32m---> 24\u001b[0;31m         \u001b[0my\u001b[0m \u001b[1;33m=\u001b[0m \u001b[0mvector\u001b[0m\u001b[1;33m[\u001b[0m\u001b[1;36m0\u001b[0m\u001b[1;33m]\u001b[0m\u001b[1;33m*\u001b[0m\u001b[0mmath\u001b[0m\u001b[1;33m.\u001b[0m\u001b[0msin\u001b[0m\u001b[1;33m(\u001b[0m\u001b[0msteps\u001b[0m\u001b[1;33m*\u001b[0m\u001b[0mmath\u001b[0m\u001b[1;33m.\u001b[0m\u001b[0mpi\u001b[0m \u001b[1;33m/\u001b[0m \u001b[1;36m16\u001b[0m\u001b[1;33m)\u001b[0m \u001b[1;33m+\u001b[0m \u001b[0mvector\u001b[0m\u001b[1;33m[\u001b[0m\u001b[1;36m1\u001b[0m\u001b[1;33m]\u001b[0m\u001b[1;33m*\u001b[0m\u001b[0mmath\u001b[0m\u001b[1;33m.\u001b[0m\u001b[0mcos\u001b[0m\u001b[1;33m(\u001b[0m\u001b[0msteps\u001b[0m\u001b[1;33m*\u001b[0m\u001b[0mmath\u001b[0m\u001b[1;33m.\u001b[0m\u001b[0mpi\u001b[0m \u001b[1;33m/\u001b[0m \u001b[1;36m16\u001b[0m\u001b[1;33m)\u001b[0m\u001b[1;33m\u001b[0m\u001b[0m\n\u001b[0m\u001b[1;32m     25\u001b[0m         \u001b[1;32mreturn\u001b[0m \u001b[1;33m(\u001b[0m\u001b[0mx\u001b[0m\u001b[1;33m,\u001b[0m\u001b[0my\u001b[0m\u001b[1;33m)\u001b[0m\u001b[1;33m\u001b[0m\u001b[0m\n\u001b[1;32m     26\u001b[0m \u001b[1;33m\u001b[0m\u001b[0m\n",
      "\u001b[0;31mKeyboardInterrupt\u001b[0m: "
     ]
    }
   ],
   "source": [
    "alg = GeneticAlgo()\n",
    "popul = alg.random_popul(45)\n",
    "while (True):\n",
    "    popul = alg.step(popul)\n",
    "    best_candidate = popul[0]"
   ]
  },
  {
   "cell_type": "code",
   "execution_count": 286,
   "metadata": {
    "collapsed": false
   },
   "outputs": [
    {
     "data": {
      "text/plain": [
       "{'MinDissimilarity': 2.4599465746969438,\n",
       " 'N': 2.0,\n",
       " 'OptValue': 3.3156531851467816,\n",
       " 'finalMatchThreshold': 9.44038096176614,\n",
       " 'thresholds': [41.8639460239329,\n",
       "  32.348302153124486,\n",
       "  0.8611537786509325,\n",
       "  1.1125524913887437],\n",
       " 'weights': [0.5, 0.05, 0.05, 0.4]}"
      ]
     },
     "execution_count": 286,
     "metadata": {},
     "output_type": "execute_result"
    }
   ],
   "source": [
    "best_candidate"
   ]
  },
  {
   "cell_type": "code",
   "execution_count": 287,
   "metadata": {
    "collapsed": false
   },
   "outputs": [
    {
     "data": {
      "text/plain": [
       "(99406, 128112, 69630, 98336)"
      ]
     },
     "execution_count": 287,
     "metadata": {},
     "output_type": "execute_result"
    }
   ],
   "source": [
    "tp,tn,fp,fn"
   ]
  },
  {
   "cell_type": "code",
   "execution_count": 279,
   "metadata": {
    "collapsed": false
   },
   "outputs": [],
   "source": [
    "test = {'MinDissimilarity': 2.2306793596698347,\n",
    " 'N': 2.0,\n",
    " 'OptValue': 2.962895941182219,\n",
    " 'finalMatchThreshold': 9.510819603577431,\n",
    " 'thresholds': [39.978606828772456,\n",
    "  13.72104482880197,\n",
    "  1.03034591789699,\n",
    "  2],\n",
    " 'weights': (lambda l: [x/sum(l) for x in l]) ([10,1,1,8])}"
   ]
  },
  {
   "cell_type": "code",
   "execution_count": 280,
   "metadata": {
    "collapsed": false
   },
   "outputs": [
    {
     "name": "stderr",
     "output_type": "stream",
     "text": [
      "C:\\Users\\Artem\\Anaconda3\\lib\\site-packages\\ipykernel\\__main__.py:9: DeprecationWarning: generator 'test_batch' raised StopIteration\n"
     ]
    },
    {
     "data": {
      "text/plain": [
       "-67"
      ]
     },
     "execution_count": 280,
     "metadata": {},
     "output_type": "execute_result"
    }
   ],
   "source": [
    "GeneticAlgo().of(test)"
   ]
  },
  {
   "cell_type": "code",
   "execution_count": 288,
   "metadata": {
    "collapsed": false
   },
   "outputs": [
    {
     "data": {
      "text/plain": [
       "(99406, 128112, 69630, 98336)"
      ]
     },
     "execution_count": 288,
     "metadata": {},
     "output_type": "execute_result"
    }
   ],
   "source": [
    "tp,tn,fp,fn"
   ]
  },
  {
   "cell_type": "code",
   "execution_count": 289,
   "metadata": {
    "collapsed": true
   },
   "outputs": [],
   "source": [
    "tn = 0\n",
    "tp = 0\n",
    "fn = 0\n",
    "fp = 0"
   ]
  },
  {
   "cell_type": "code",
   "execution_count": null,
   "metadata": {
    "collapsed": true
   },
   "outputs": [],
   "source": []
  }
 ],
 "metadata": {
  "anaconda-cloud": {},
  "kernelspec": {
   "display_name": "Python 3",
   "language": "python",
   "name": "python3"
  },
  "language_info": {
   "codemirror_mode": {
    "name": "ipython",
    "version": 3
   },
   "file_extension": ".py",
   "mimetype": "text/x-python",
   "name": "python",
   "nbconvert_exporter": "python",
   "pygments_lexer": "ipython3",
   "version": "3.6.0"
  }
 },
 "nbformat": 4,
 "nbformat_minor": 1
}
