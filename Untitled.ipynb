{
 "cells": [
  {
   "cell_type": "code",
   "execution_count": 37,
   "metadata": {
    "collapsed": false
   },
   "outputs": [],
   "source": [
    "def comp(f,g):\n",
    "    return lambda *x: f(g(*x))\n",
    "\n",
    "import re\n",
    "minutia_regexp = re.compile(\n",
    "    \"^(?P<id>[0-9]+):\"              +   # the integer identifier of the detected minutia\n",
    "     \"(?P<mx>[0-9]+),\"              +   # the x-pixel coordinate of the detected minutia\n",
    "     \"(?P<my>[0-9]+):\"              +   # the y-pixel coordinate of the detected minutia\n",
    "     \"(?P<dir>[0-9]+):\"             +   # the direction of the detected minutia (0:-31) == (0:-360) clockwise\n",
    "     \"(?P<rel>(0\\.[0-9]+)|(1\\.0)):\" +   # the reliability measure assigned to the detected minutia\n",
    "     \"(?P<typ>(RIG)|(BIF)):\"        +   # the type of the detected minutia\n",
    "     \"(?P<ftyp>(APP)|(DIS)):\"       +   # the type of feature detected\n",
    "     \"(?P<fn>[0-9]+)\"               +   # the integer identifier of the type of feature detected\n",
    "     \"(:(?P<neighbours>([0-9]+,[0-9]+;[0-9]+:?)*))?$\") # neighbouring minutia\n",
    "\n",
    "neighbour_regexp = re.compile(\n",
    "     \"^(?P<mx>[0-9]+),\"             +  # the x-pixel coordinate of the neighbouring minutia\n",
    "      \"(?P<my>[0-9]+);\"             +  # the y-pixel coordinate of the neighbouring minutia\n",
    "      \"(?P<rc>[0-9]+)$\")               # the ridge count calculated between the detected minutia and its first neighbor\n",
    "\n",
    "def toNumberIfPossible(string):\n",
    "    try:\n",
    "        return int(string)\n",
    "    except ValueError:\n",
    "        try:\n",
    "            return float(string)\n",
    "        except ValueError:\n",
    "            return string\n",
    "\n",
    "def parseMinutia(string):\n",
    "    string = ''.join(list(x for x in string if x != ' '))\n",
    "    m = re.match(minutia_regexp, string)\n",
    "    if (m is None):\n",
    "        raise Exception(\"Does not parse\")\n",
    "    res = {key:toNumberIfPossible(m.group(key)) for key in [\"id\",\"mx\",\"my\",\"dir\",\"rel\",\"typ\",\"ftyp\",\"fn\"]}\n",
    "    res[\"neighbours\"] = []\n",
    "    neighbours = m.group(\"neighbours\")\n",
    "    if neighbours:\n",
    "        neighbours = neighbours.split(\":\")\n",
    "        for neighbour in neighbours:\n",
    "            ren = re.match(neighbour_regexp, neighbour)\n",
    "            res[\"neighbours\"].append({key:toNumberIfPossible(ren.group(key)) for key in [\"mx\",\"my\",\"rc\"]})\n",
    "    return res\n",
    "    \n",
    "def parseFilename(filename):\n",
    "    res = None\n",
    "    with open(filename) as f:\n",
    "        res = {(mx,my): m \n",
    "               for (mx,my,m) \n",
    "               in map(\n",
    "                    comp(lambda x: (x[\"mx\"], x[\"my\"], x), parseMinutia),\n",
    "                    list(f)[4:]\n",
    "                )\n",
    "        }\n",
    "    for minutia in res.values():\n",
    "        for n in minutia[\"neighbours\"]:\n",
    "            n[\"dir\"] = res[(n[\"mx\"],n[\"my\"])][\"dir\"]\n",
    "    return list(res.values())\n",
    "    \n",
    "        "
   ]
  },
  {
   "cell_type": "code",
   "execution_count": 38,
   "metadata": {
    "collapsed": false
   },
   "outputs": [],
   "source": [
    "def rotate(vector, steps): # 32 steps in 360 degrees\n",
    "    x = vector[0]*math.cos(steps*math.pi / 16) - vector[1]*math.sin(steps*math.pi / 16)\n",
    "    y = vector[0]*math.sin(steps*math.pi / 16) + vector[1]*math.cos(steps*math.pi / 16)\n",
    "    return (x,y)\n",
    "\n",
    "def length(vector):\n",
    "    return (vector[0]**2+vector[1]**2)**0.5\n",
    "\n",
    "def angle(vec1, vec2):\n",
    "    dotproduct = vec1[0]*vec2[0] + vec1[1]*vec2[1]\n",
    "    return dotproduct / (length(vec1)*length(vec2))"
   ]
  },
  {
   "cell_type": "code",
   "execution_count": 36,
   "metadata": {
    "collapsed": false
   },
   "outputs": [
    {
     "data": {
      "text/plain": [
       "'files = sorted([x for x in os.listdir(\"mindtct\") if x.endswith(\".shelve.dat\")])\\nfiles1, files2 = [x for x in files if x.startswith(\"f\")], [x for x in files if x.startswith(\"s\")]\\npairs = list(zip(files1, files2))\\nfor f1, f2 in pairs:\\n    assert(f1[1:] == f2[1:])\\n\\nfor i, pair in enumerate(pairs):\\n    data = shelve.open(\"mindtct/finger_{}.shelve\".format(i))\\n    print(\"mindtct/\"+pair[1])\\n    f1,f2 = shelve.open(\"mindtct/\"+pair[0][:-len(\".dat\")]), shelve.open(\"mindtct/\"+pair[1][:-len(\".dat\")])\\n    data[\"finger\"] = (f1[\"parsed\"],f2[\"parsed\"])\\n    data.close()\\n    if i < 10:\\n        print(f1[\"parsed\"],f2[\"parsed\"])\\n    print(\"Successful {}\".format(\"finger_{}.shelve\".format(i)))'"
      ]
     },
     "execution_count": 36,
     "metadata": {},
     "output_type": "execute_result"
    }
   ],
   "source": [
    "import os, shelve\n",
    "\"\"\"files = [x for x in os.listdir(\"mindtct\") if x.endswith(\".min\")]\n",
    "for file in files:\n",
    "    data = shelve.open(\"mindtct/\"+file+\".shelve\")\n",
    "    data[\"parsed\"] = parseFilename(\"mindtct/\"+file)\n",
    "    data.close()\n",
    "    print(\"{} successfull\", file)\"\"\"\n",
    "\n",
    "\"\"\"files = sorted([x for x in os.listdir(\"mindtct\") if x.endswith(\".shelve.dat\")])\n",
    "files1, files2 = [x for x in files if x.startswith(\"f\")], [x for x in files if x.startswith(\"s\")]\n",
    "pairs = list(zip(files1, files2))\n",
    "for f1, f2 in pairs:\n",
    "    assert(f1[1:] == f2[1:])\n",
    "\n",
    "for i, pair in enumerate(pairs):\n",
    "    data = shelve.open(\"mindtct/finger_{}.shelve\".format(i))\n",
    "    print(\"mindtct/\"+pair[1])\n",
    "    f1,f2 = shelve.open(\"mindtct/\"+pair[0][:-len(\".dat\")]), shelve.open(\"mindtct/\"+pair[1][:-len(\".dat\")])\n",
    "    data[\"finger\"] = (f1[\"parsed\"],f2[\"parsed\"])\n",
    "    data.close()\n",
    "    if i < 10:\n",
    "        print(f1[\"parsed\"],f2[\"parsed\"])\n",
    "    print(\"Successful {}\".format(\"finger_{}.shelve\".format(i)))\"\"\""
   ]
  },
  {
   "cell_type": "code",
   "execution_count": 77,
   "metadata": {
    "collapsed": false
   },
   "outputs": [],
   "source": [
    "def fingers():\n",
    "    dir = r\"mindtct/shelved_pairs_of_fingers/\"\n",
    "    import os, shelve\n",
    "    files = [x for x in os.listdir(dir) if x.endswith(\".dat\")]\n",
    "    for file in files:\n",
    "        d = shelve.open(dir+file[:-len(\".dat\")])\n",
    "        yield d[\"finger\"]\n",
    "        d.close()"
   ]
  },
  {
   "cell_type": "code",
   "execution_count": 6,
   "metadata": {
    "collapsed": false
   },
   "outputs": [],
   "source": [
    "import math\n",
    "\n",
    "def matcher(N, OptValue, MinDissimilarity, thresholds, weights, finalMatchThreshold):\n",
    "    def match(template, candidate):\n",
    "        def stats(parent, neighbour):\n",
    "            I,J = parent, neighbour\n",
    "            #print (\"<\",I,J,\">\")\n",
    "            D  = ((J[\"mx\"]-I[\"mx\"]), (J[\"my\"]-I[\"my\"]))\n",
    "            Ed = length(D)\n",
    "            up = (0,-1)\n",
    "            Idir = rotate(up, I[\"dir\"])\n",
    "            Jdir = rotate(up, J[\"dir\"])\n",
    "            Dra  = angle((-D[0],-D[1]), Idir)\n",
    "            Oda  = angle(Idir, Jdir)\n",
    "            Rc   = J[\"rc\"]\n",
    "            #print(Ed, Dra, Oda, Rc)\n",
    "            return Ed, Dra, Oda, Rc\n",
    "\n",
    "        def NeighDissimilarity(parentI,parentJ, I,J):\n",
    "            values = (abs(x-y) for x,y in zip(stats(parentI,I),stats(parentJ,J)))\n",
    "            if (any(x>y for x,y in zip(values, thresholds))):\n",
    "                return False\n",
    "            normalized_values = [x/y for x,y in zip(values, thresholds)]\n",
    "            weighted_values   = [x*y for x,y in zip(values, weights   )]\n",
    "            return sum(weighted_values)\n",
    "        \n",
    "        def findBestMatch(parentI, parentJ, I, Js, JMatched):\n",
    "            index = -1\n",
    "            dissValue = 999999999\n",
    "            for i, J in enumerate(Js):\n",
    "                if i in JMatched:\n",
    "                    continue\n",
    "                ND = NeighDissimilarity(parentI,parentJ,I,J)\n",
    "                if (ND is False):\n",
    "                    continue\n",
    "                if (ND < dissValue):\n",
    "                    index = i\n",
    "                    dissValue = ND\n",
    "            return index, dissValue\n",
    "\n",
    "        def matchCandidate(C, MatchCost, MinutiaeMatched):\n",
    "            for R in template:\n",
    "                NM = 0\n",
    "                MinutiaDiss = 0\n",
    "                JMatched = []\n",
    "                for I in R[\"neighbours\"]:\n",
    "                    index, NeighDiss = findBestMatch(R, C, I, C[\"neighbours\"], JMatched) or (None, None)\n",
    "                    if index is None:\n",
    "                        continue\n",
    "                    JMatched.append(index)\n",
    "                    MinutiaDiss += NeighDiss\n",
    "                    NM+=1\n",
    "                    if (NM>=N): break\n",
    "                if (NM>=N):\n",
    "                    MatchCost[0] += MinutiaDiss / NM\n",
    "                    MinutiaeMatched[0] += 1\n",
    "                if (MatchCost[0]/MinutiaeMatched[0] <= OptValue or MinutiaDiss < MinDissimilarity):\n",
    "                    return True\n",
    "            return False\n",
    "                        \n",
    "                        \n",
    "        MatchCost, MinutiaeMatched = [0],[0]\n",
    "        for C in candidate:\n",
    "            if matchCandidate(C, MatchCost, MinutiaeMatched):\n",
    "                return True\n",
    "        if (MatchCost[0]/MinutiaeMatched[0]<finalMatchThreshold):\n",
    "            return True\n",
    "        return False\n",
    "    return match"
   ]
  },
  {
   "cell_type": "code",
   "execution_count": 8,
   "metadata": {
    "collapsed": false
   },
   "outputs": [],
   "source": [
    "params = {\n",
    "    \"N\": 3,\n",
    "    \"OptValue\": 0.1,\n",
    "    \"MinDissimilarity\": 0.1,\n",
    "    \"thresholds\": [30,0.5,1,3],\n",
    "    \"weights\": [1,1,1,1],\n",
    "    \"finalMatchThreshold\": 0.1,\n",
    "} #next step: figure out these coeefs\n"
   ]
  },
  {
   "cell_type": "code",
   "execution_count": 17,
   "metadata": {
    "collapsed": true
   },
   "outputs": [],
   "source": [
    "def stupidOptimizer():\n",
    "    import random\n",
    "    params = {\n",
    "    \"N\": 1,\n",
    "    \"OptValue\": random.uniform(0, 1),\n",
    "    \"MinDissimilarity\": random.uniform(0,1),\n",
    "    \"thresholds\": [random.randint(1,150),random.uniform(0,2),random.randint(1,3),random.randint(1,10)],\n",
    "    \"weights\": [random.uniform(0,10) for _ in range(4)],\n",
    "    \"finalMatchThreshold\": random.uniform(0,1),\n",
    "    }\n",
    "    match = matcher(**params)\n",
    "    if all([\n",
    "        (match(f0001_01, f0002_05) is True),\n",
    "        (match(f0001_01, s0001_01) is False),\n",
    "        (match(f0002_05, s0001_01) is False),\n",
    "    ]):\n",
    "        print(params)"
   ]
  },
  {
   "cell_type": "code",
   "execution_count": 18,
   "metadata": {
    "collapsed": false
   },
   "outputs": [
    {
     "ename": "KeyboardInterrupt",
     "evalue": "",
     "output_type": "error",
     "traceback": [
      "\u001b[0;31m---------------------------------------------------------------------------\u001b[0m",
      "\u001b[0;31mKeyboardInterrupt\u001b[0m                         Traceback (most recent call last)",
      "\u001b[0;32m<ipython-input-18-1359a372daeb>\u001b[0m in \u001b[0;36m<module>\u001b[0;34m()\u001b[0m\n\u001b[1;32m      1\u001b[0m \u001b[1;32mfor\u001b[0m \u001b[0m_\u001b[0m \u001b[1;32min\u001b[0m \u001b[0mrange\u001b[0m\u001b[1;33m(\u001b[0m\u001b[1;36m100000\u001b[0m\u001b[1;33m)\u001b[0m\u001b[1;33m:\u001b[0m\u001b[1;33m\u001b[0m\u001b[0m\n\u001b[0;32m----> 2\u001b[0;31m     \u001b[0mstupidOptimizer\u001b[0m\u001b[1;33m(\u001b[0m\u001b[1;33m)\u001b[0m\u001b[1;33m\u001b[0m\u001b[0m\n\u001b[0m",
      "\u001b[0;32m<ipython-input-17-6074dd60ea72>\u001b[0m in \u001b[0;36mstupidOptimizer\u001b[0;34m()\u001b[0m\n\u001b[1;32m     12\u001b[0m     if all([\n\u001b[1;32m     13\u001b[0m         \u001b[1;33m(\u001b[0m\u001b[0mmatch\u001b[0m\u001b[1;33m(\u001b[0m\u001b[0mf0001_01\u001b[0m\u001b[1;33m,\u001b[0m \u001b[0mf0002_05\u001b[0m\u001b[1;33m)\u001b[0m \u001b[1;32mis\u001b[0m \u001b[1;32mTrue\u001b[0m\u001b[1;33m)\u001b[0m\u001b[1;33m,\u001b[0m\u001b[1;33m\u001b[0m\u001b[0m\n\u001b[0;32m---> 14\u001b[0;31m         \u001b[1;33m(\u001b[0m\u001b[0mmatch\u001b[0m\u001b[1;33m(\u001b[0m\u001b[0mf0001_01\u001b[0m\u001b[1;33m,\u001b[0m \u001b[0ms0001_01\u001b[0m\u001b[1;33m)\u001b[0m \u001b[1;32mis\u001b[0m \u001b[1;32mFalse\u001b[0m\u001b[1;33m)\u001b[0m\u001b[1;33m,\u001b[0m\u001b[1;33m\u001b[0m\u001b[0m\n\u001b[0m\u001b[1;32m     15\u001b[0m         \u001b[1;33m(\u001b[0m\u001b[0mmatch\u001b[0m\u001b[1;33m(\u001b[0m\u001b[0mf0002_05\u001b[0m\u001b[1;33m,\u001b[0m \u001b[0ms0001_01\u001b[0m\u001b[1;33m)\u001b[0m \u001b[1;32mis\u001b[0m \u001b[1;32mFalse\u001b[0m\u001b[1;33m)\u001b[0m\u001b[1;33m,\u001b[0m\u001b[1;33m\u001b[0m\u001b[0m\n\u001b[1;32m     16\u001b[0m     ]):\n",
      "\u001b[0;32m<ipython-input-7-1a8e242aa3c7>\u001b[0m in \u001b[0;36mmatch\u001b[0;34m(template, candidate)\u001b[0m\n\u001b[1;32m     62\u001b[0m         \u001b[0mMatchCost\u001b[0m\u001b[1;33m,\u001b[0m \u001b[0mMinutiaeMatched\u001b[0m \u001b[1;33m=\u001b[0m \u001b[1;33m[\u001b[0m\u001b[1;36m0\u001b[0m\u001b[1;33m]\u001b[0m\u001b[1;33m,\u001b[0m\u001b[1;33m[\u001b[0m\u001b[1;36m0\u001b[0m\u001b[1;33m]\u001b[0m\u001b[1;33m\u001b[0m\u001b[0m\n\u001b[1;32m     63\u001b[0m         \u001b[1;32mfor\u001b[0m \u001b[0mC\u001b[0m \u001b[1;32min\u001b[0m \u001b[0mcandidate\u001b[0m\u001b[1;33m:\u001b[0m\u001b[1;33m\u001b[0m\u001b[0m\n\u001b[0;32m---> 64\u001b[0;31m             \u001b[1;32mif\u001b[0m \u001b[0mmatchCandidate\u001b[0m\u001b[1;33m(\u001b[0m\u001b[0mC\u001b[0m\u001b[1;33m,\u001b[0m \u001b[0mMatchCost\u001b[0m\u001b[1;33m,\u001b[0m \u001b[0mMinutiaeMatched\u001b[0m\u001b[1;33m)\u001b[0m\u001b[1;33m:\u001b[0m\u001b[1;33m\u001b[0m\u001b[0m\n\u001b[0m\u001b[1;32m     65\u001b[0m                 \u001b[1;32mreturn\u001b[0m \u001b[1;32mTrue\u001b[0m\u001b[1;33m\u001b[0m\u001b[0m\n\u001b[1;32m     66\u001b[0m         \u001b[1;32mif\u001b[0m \u001b[1;33m(\u001b[0m\u001b[0mMatchCost\u001b[0m\u001b[1;33m[\u001b[0m\u001b[1;36m0\u001b[0m\u001b[1;33m]\u001b[0m\u001b[1;33m/\u001b[0m\u001b[0mMinutiaeMatched\u001b[0m\u001b[1;33m[\u001b[0m\u001b[1;36m0\u001b[0m\u001b[1;33m]\u001b[0m\u001b[1;33m<\u001b[0m\u001b[0mfinalMatchThreshold\u001b[0m\u001b[1;33m)\u001b[0m\u001b[1;33m:\u001b[0m\u001b[1;33m\u001b[0m\u001b[0m\n",
      "\u001b[0;32m<ipython-input-7-1a8e242aa3c7>\u001b[0m in \u001b[0;36mmatchCandidate\u001b[0;34m(C, MatchCost, MinutiaeMatched)\u001b[0m\n\u001b[1;32m     45\u001b[0m                 \u001b[0mJMatched\u001b[0m \u001b[1;33m=\u001b[0m \u001b[1;33m[\u001b[0m\u001b[1;33m]\u001b[0m\u001b[1;33m\u001b[0m\u001b[0m\n\u001b[1;32m     46\u001b[0m                 \u001b[1;32mfor\u001b[0m \u001b[0mI\u001b[0m \u001b[1;32min\u001b[0m \u001b[0mR\u001b[0m\u001b[1;33m[\u001b[0m\u001b[1;34m\"neighbours\"\u001b[0m\u001b[1;33m]\u001b[0m\u001b[1;33m:\u001b[0m\u001b[1;33m\u001b[0m\u001b[0m\n\u001b[0;32m---> 47\u001b[0;31m                     \u001b[0mindex\u001b[0m\u001b[1;33m,\u001b[0m \u001b[0mNeighDiss\u001b[0m \u001b[1;33m=\u001b[0m \u001b[0mfindBestMatch\u001b[0m\u001b[1;33m(\u001b[0m\u001b[0mR\u001b[0m\u001b[1;33m,\u001b[0m \u001b[0mC\u001b[0m\u001b[1;33m,\u001b[0m \u001b[0mI\u001b[0m\u001b[1;33m,\u001b[0m \u001b[0mC\u001b[0m\u001b[1;33m[\u001b[0m\u001b[1;34m\"neighbours\"\u001b[0m\u001b[1;33m]\u001b[0m\u001b[1;33m,\u001b[0m \u001b[0mJMatched\u001b[0m\u001b[1;33m)\u001b[0m \u001b[1;32mor\u001b[0m \u001b[1;33m(\u001b[0m\u001b[1;32mNone\u001b[0m\u001b[1;33m,\u001b[0m \u001b[1;32mNone\u001b[0m\u001b[1;33m)\u001b[0m\u001b[1;33m\u001b[0m\u001b[0m\n\u001b[0m\u001b[1;32m     48\u001b[0m                     \u001b[1;32mif\u001b[0m \u001b[0mindex\u001b[0m \u001b[1;32mis\u001b[0m \u001b[1;32mNone\u001b[0m\u001b[1;33m:\u001b[0m\u001b[1;33m\u001b[0m\u001b[0m\n\u001b[1;32m     49\u001b[0m                         \u001b[1;32mcontinue\u001b[0m\u001b[1;33m\u001b[0m\u001b[0m\n",
      "\u001b[0;32m<ipython-input-7-1a8e242aa3c7>\u001b[0m in \u001b[0;36mfindBestMatch\u001b[0;34m(parentI, parentJ, I, Js, JMatched)\u001b[0m\n\u001b[1;32m     31\u001b[0m                 \u001b[1;32mif\u001b[0m \u001b[0mi\u001b[0m \u001b[1;32min\u001b[0m \u001b[0mJMatched\u001b[0m\u001b[1;33m:\u001b[0m\u001b[1;33m\u001b[0m\u001b[0m\n\u001b[1;32m     32\u001b[0m                     \u001b[1;32mcontinue\u001b[0m\u001b[1;33m\u001b[0m\u001b[0m\n\u001b[0;32m---> 33\u001b[0;31m                 \u001b[0mND\u001b[0m \u001b[1;33m=\u001b[0m \u001b[0mNeighDissimilarity\u001b[0m\u001b[1;33m(\u001b[0m\u001b[0mparentI\u001b[0m\u001b[1;33m,\u001b[0m\u001b[0mparentJ\u001b[0m\u001b[1;33m,\u001b[0m\u001b[0mI\u001b[0m\u001b[1;33m,\u001b[0m\u001b[0mJ\u001b[0m\u001b[1;33m)\u001b[0m\u001b[1;33m\u001b[0m\u001b[0m\n\u001b[0m\u001b[1;32m     34\u001b[0m                 \u001b[1;32mif\u001b[0m \u001b[1;33m(\u001b[0m\u001b[0mND\u001b[0m \u001b[1;32mis\u001b[0m \u001b[1;32mFalse\u001b[0m\u001b[1;33m)\u001b[0m\u001b[1;33m:\u001b[0m\u001b[1;33m\u001b[0m\u001b[0m\n\u001b[1;32m     35\u001b[0m                     \u001b[1;32mcontinue\u001b[0m\u001b[1;33m\u001b[0m\u001b[0m\n",
      "\u001b[0;32m<ipython-input-7-1a8e242aa3c7>\u001b[0m in \u001b[0;36mNeighDissimilarity\u001b[0;34m(parentI, parentJ, I, J)\u001b[0m\n\u001b[1;32m     18\u001b[0m \u001b[1;33m\u001b[0m\u001b[0m\n\u001b[1;32m     19\u001b[0m         \u001b[1;32mdef\u001b[0m \u001b[0mNeighDissimilarity\u001b[0m\u001b[1;33m(\u001b[0m\u001b[0mparentI\u001b[0m\u001b[1;33m,\u001b[0m\u001b[0mparentJ\u001b[0m\u001b[1;33m,\u001b[0m \u001b[0mI\u001b[0m\u001b[1;33m,\u001b[0m\u001b[0mJ\u001b[0m\u001b[1;33m)\u001b[0m\u001b[1;33m:\u001b[0m\u001b[1;33m\u001b[0m\u001b[0m\n\u001b[0;32m---> 20\u001b[0;31m             \u001b[0mvalues\u001b[0m \u001b[1;33m=\u001b[0m \u001b[1;33m(\u001b[0m\u001b[0mabs\u001b[0m\u001b[1;33m(\u001b[0m\u001b[0mx\u001b[0m\u001b[1;33m-\u001b[0m\u001b[0my\u001b[0m\u001b[1;33m)\u001b[0m \u001b[1;32mfor\u001b[0m \u001b[0mx\u001b[0m\u001b[1;33m,\u001b[0m\u001b[0my\u001b[0m \u001b[1;32min\u001b[0m \u001b[0mzip\u001b[0m\u001b[1;33m(\u001b[0m\u001b[0mstats\u001b[0m\u001b[1;33m(\u001b[0m\u001b[0mparentI\u001b[0m\u001b[1;33m,\u001b[0m\u001b[0mI\u001b[0m\u001b[1;33m)\u001b[0m\u001b[1;33m,\u001b[0m\u001b[0mstats\u001b[0m\u001b[1;33m(\u001b[0m\u001b[0mparentJ\u001b[0m\u001b[1;33m,\u001b[0m\u001b[0mJ\u001b[0m\u001b[1;33m)\u001b[0m\u001b[1;33m)\u001b[0m\u001b[1;33m)\u001b[0m\u001b[1;33m\u001b[0m\u001b[0m\n\u001b[0m\u001b[1;32m     21\u001b[0m             \u001b[1;32mif\u001b[0m \u001b[1;33m(\u001b[0m\u001b[0many\u001b[0m\u001b[1;33m(\u001b[0m\u001b[0mx\u001b[0m\u001b[1;33m>\u001b[0m\u001b[0my\u001b[0m \u001b[1;32mfor\u001b[0m \u001b[0mx\u001b[0m\u001b[1;33m,\u001b[0m\u001b[0my\u001b[0m \u001b[1;32min\u001b[0m \u001b[0mzip\u001b[0m\u001b[1;33m(\u001b[0m\u001b[0mvalues\u001b[0m\u001b[1;33m,\u001b[0m \u001b[0mthresholds\u001b[0m\u001b[1;33m)\u001b[0m\u001b[1;33m)\u001b[0m\u001b[1;33m)\u001b[0m\u001b[1;33m:\u001b[0m\u001b[1;33m\u001b[0m\u001b[0m\n\u001b[1;32m     22\u001b[0m                 \u001b[1;32mreturn\u001b[0m \u001b[1;32mFalse\u001b[0m\u001b[1;33m\u001b[0m\u001b[0m\n",
      "\u001b[0;32m<ipython-input-7-1a8e242aa3c7>\u001b[0m in \u001b[0;36mstats\u001b[0;34m(parent, neighbour)\u001b[0m\n\u001b[1;32m      6\u001b[0m             \u001b[0mI\u001b[0m\u001b[1;33m,\u001b[0m\u001b[0mJ\u001b[0m \u001b[1;33m=\u001b[0m \u001b[0mparent\u001b[0m\u001b[1;33m,\u001b[0m \u001b[0mneighbour\u001b[0m\u001b[1;33m\u001b[0m\u001b[0m\n\u001b[1;32m      7\u001b[0m             \u001b[1;31m#print (\"<\",I,J,\">\")\u001b[0m\u001b[1;33m\u001b[0m\u001b[1;33m\u001b[0m\u001b[0m\n\u001b[0;32m----> 8\u001b[0;31m             \u001b[0mD\u001b[0m  \u001b[1;33m=\u001b[0m \u001b[1;33m(\u001b[0m\u001b[1;33m(\u001b[0m\u001b[0mJ\u001b[0m\u001b[1;33m[\u001b[0m\u001b[1;34m\"mx\"\u001b[0m\u001b[1;33m]\u001b[0m\u001b[1;33m-\u001b[0m\u001b[0mI\u001b[0m\u001b[1;33m[\u001b[0m\u001b[1;34m\"mx\"\u001b[0m\u001b[1;33m]\u001b[0m\u001b[1;33m)\u001b[0m\u001b[1;33m,\u001b[0m \u001b[1;33m(\u001b[0m\u001b[0mJ\u001b[0m\u001b[1;33m[\u001b[0m\u001b[1;34m\"my\"\u001b[0m\u001b[1;33m]\u001b[0m\u001b[1;33m-\u001b[0m\u001b[0mI\u001b[0m\u001b[1;33m[\u001b[0m\u001b[1;34m\"my\"\u001b[0m\u001b[1;33m]\u001b[0m\u001b[1;33m)\u001b[0m\u001b[1;33m)\u001b[0m\u001b[1;33m\u001b[0m\u001b[0m\n\u001b[0m\u001b[1;32m      9\u001b[0m             \u001b[0mEd\u001b[0m \u001b[1;33m=\u001b[0m \u001b[0mlength\u001b[0m\u001b[1;33m(\u001b[0m\u001b[0mD\u001b[0m\u001b[1;33m)\u001b[0m\u001b[1;33m\u001b[0m\u001b[0m\n\u001b[1;32m     10\u001b[0m             \u001b[0mup\u001b[0m \u001b[1;33m=\u001b[0m \u001b[1;33m(\u001b[0m\u001b[1;36m0\u001b[0m\u001b[1;33m,\u001b[0m\u001b[1;33m-\u001b[0m\u001b[1;36m1\u001b[0m\u001b[1;33m)\u001b[0m\u001b[1;33m\u001b[0m\u001b[0m\n",
      "\u001b[0;31mKeyboardInterrupt\u001b[0m: "
     ]
    }
   ],
   "source": []
  },
  {
   "cell_type": "code",
   "execution_count": null,
   "metadata": {
    "collapsed": true
   },
   "outputs": [],
   "source": []
  }
 ],
 "metadata": {
  "anaconda-cloud": {},
  "kernelspec": {
   "display_name": "Python 3",
   "language": "python",
   "name": "python3"
  },
  "language_info": {
   "codemirror_mode": {
    "name": "ipython",
    "version": 3
   },
   "file_extension": ".py",
   "mimetype": "text/x-python",
   "name": "python",
   "nbconvert_exporter": "python",
   "pygments_lexer": "ipython3",
   "version": "3.6.0"
  }
 },
 "nbformat": 4,
 "nbformat_minor": 1
}
